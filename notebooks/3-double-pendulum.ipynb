{
 "cells": [
  {
   "cell_type": "markdown",
   "id": "0",
   "metadata": {},
   "source": [
    "# Double pendulum"
   ]
  },
  {
   "cell_type": "markdown",
   "id": "1",
   "metadata": {},
   "source": [
    "https://en.wikipedia.org/wiki/Double_pendulum"
   ]
  },
  {
   "cell_type": "code",
   "execution_count": null,
   "id": "2",
   "metadata": {},
   "outputs": [],
   "source": [
    "%load_ext autoreload\n",
    "%autoreload 2"
   ]
  },
  {
   "cell_type": "code",
   "execution_count": null,
   "id": "3",
   "metadata": {},
   "outputs": [],
   "source": [
    "from sympy import symbols, Function\n",
    "import sympy\n",
    "import polars as pl\n",
    "import gif\n",
    "import matplotlib.pyplot as plt\n",
    "from matplotlib.figure import Figure\n",
    "import math\n",
    "from diffrax import diffeqsolve, Dopri5, ODETerm, SaveAt, PIDController\n",
    "import jax.numpy as jnp"
   ]
  },
  {
   "cell_type": "markdown",
   "id": "4",
   "metadata": {},
   "source": [
    "## Maths"
   ]
  },
  {
   "cell_type": "markdown",
   "id": "5",
   "metadata": {},
   "source": [
    "### Lagrangian"
   ]
  },
  {
   "cell_type": "markdown",
   "id": "6",
   "metadata": {},
   "source": [
    "$$ L = T - V $$\n",
    "\n",
    "$$ T =  \\frac{1}{2} \\sum_i m_i \\left( \\dot{x}_i^2 + \\dot{y}_i^2 \\right)  $$\n",
    "\n",
    "the uniform  graviational potential is\n",
    "\n",
    "$$ V = \\sum_i m_i g y_i $$"
   ]
  },
  {
   "cell_type": "markdown",
   "id": "7",
   "metadata": {},
   "source": [
    "pendulum #1:\n",
    "\n",
    "$$ x_1 = l_1 \\sin q_1 $$\n",
    "\n",
    "$$ y_1 = -l_1\\cos q_1 $$\n",
    "\n",
    "pendulum #2:\n",
    "\n",
    "$$ x_2 = l_1 \\sin q_1 + l_2 \\sin q_2 $$\n",
    "\n",
    "$$ y_2 = -l_1 \\cos q_1 - l_2 \\cos q_2 $$"
   ]
  },
  {
   "cell_type": "markdown",
   "id": "8",
   "metadata": {},
   "source": [
    "the derivation becomes lengthy ... see https://en.wikipedia.org/wiki/Double_pendulum#Lagrangian for the Lagrangian"
   ]
  },
  {
   "cell_type": "markdown",
   "id": "9",
   "metadata": {},
   "source": [
    "time to let sympy shine"
   ]
  },
  {
   "cell_type": "code",
   "execution_count": null,
   "id": "10",
   "metadata": {},
   "outputs": [],
   "source": [
    "g, m1, m2, l1, l2, t = symbols(\"g m_1 m_2 l_1 l_2 t\")\n",
    "_q1, _q2, _p1, _p2 = symbols(\"qt_1 qt_2 pt_1 pt_2\", cls=Function)\n",
    "q1, q2, p1, p2 = symbols(\"q_1 q_2 p_1 p_2\")\n",
    "\n",
    "q1t = _q1(t)\n",
    "q2t = _q2(t)\n",
    "p1t = _p1(t)\n",
    "p2t = _p2(t)"
   ]
  },
  {
   "cell_type": "code",
   "execution_count": null,
   "id": "11",
   "metadata": {},
   "outputs": [],
   "source": [
    "x1 = l1 * sympy.sin(q1t)\n",
    "x1_dot = x1.diff(t)\n",
    "x1_dot"
   ]
  },
  {
   "cell_type": "code",
   "execution_count": null,
   "id": "12",
   "metadata": {},
   "outputs": [],
   "source": [
    "y1 = -l1 * sympy.cos(q1t)\n",
    "y1_dot = y1.diff(t)\n",
    "y1_dot"
   ]
  },
  {
   "cell_type": "code",
   "execution_count": null,
   "id": "13",
   "metadata": {},
   "outputs": [],
   "source": [
    "x2 = l1 * sympy.sin(q1t) + l2 * sympy.sin(q2t)\n",
    "x2_dot = x2.diff(t)\n",
    "x2_dot"
   ]
  },
  {
   "cell_type": "code",
   "execution_count": null,
   "id": "14",
   "metadata": {},
   "outputs": [],
   "source": [
    "y2 = -l1 * sympy.cos(q1t) - l2 * sympy.cos(q2t)\n",
    "y2_dot = y2.diff(t)\n",
    "y2_dot"
   ]
  },
  {
   "cell_type": "markdown",
   "id": "15",
   "metadata": {},
   "source": [
    "Kinetic energy"
   ]
  },
  {
   "cell_type": "code",
   "execution_count": null,
   "id": "16",
   "metadata": {},
   "outputs": [],
   "source": [
    "T = 1 / 2.0 * (m1 * (x1_dot**2 + y1_dot**2) + m2 * (x2_dot**2 + y2_dot**2))\n",
    "T = T.simplify()\n",
    "T"
   ]
  },
  {
   "cell_type": "markdown",
   "id": "17",
   "metadata": {},
   "source": [
    "Potential energy"
   ]
  },
  {
   "cell_type": "code",
   "execution_count": null,
   "id": "18",
   "metadata": {},
   "outputs": [],
   "source": [
    "V = m1 * g * y1 + m2 * g * y2\n",
    "# V = 0\n",
    "V"
   ]
  },
  {
   "cell_type": "markdown",
   "id": "19",
   "metadata": {},
   "source": [
    "Lagrangian"
   ]
  },
  {
   "cell_type": "code",
   "execution_count": null,
   "id": "20",
   "metadata": {},
   "outputs": [],
   "source": [
    "L = T - V\n",
    "L = L.simplify()\n",
    "L"
   ]
  },
  {
   "cell_type": "markdown",
   "id": "21",
   "metadata": {},
   "source": [
    "using \n",
    "\n",
    "$$ p = \\partial_{\\dot{q}} L $$"
   ]
  },
  {
   "cell_type": "code",
   "execution_count": null,
   "id": "22",
   "metadata": {},
   "outputs": [],
   "source": [
    "q1t_dot = q1t.diff(t)\n",
    "p1_eq = L.diff(q1t_dot)\n",
    "p1_eq"
   ]
  },
  {
   "cell_type": "code",
   "execution_count": null,
   "id": "23",
   "metadata": {},
   "outputs": [],
   "source": [
    "q2t_dot = q2t.diff(t)\n",
    "p2_eq = L.diff(q2t_dot)\n",
    "p2_eq"
   ]
  },
  {
   "cell_type": "markdown",
   "id": "24",
   "metadata": {},
   "source": [
    "express $\\dot{q}$ in terms of $p$"
   ]
  },
  {
   "cell_type": "code",
   "execution_count": null,
   "id": "25",
   "metadata": {},
   "outputs": [],
   "source": [
    "eq1 = p1t - p1_eq\n",
    "eq2 = p2t - p2_eq\n",
    "\n",
    "q_dot_qp = sympy.solve((eq1, eq2), (q1t_dot, q2t_dot))"
   ]
  },
  {
   "cell_type": "code",
   "execution_count": null,
   "id": "26",
   "metadata": {},
   "outputs": [],
   "source": [
    "q_dot_qp"
   ]
  },
  {
   "cell_type": "markdown",
   "id": "27",
   "metadata": {},
   "source": [
    "$$ H = \\sum_i p_i \\dot{q}_i - L"
   ]
  },
  {
   "cell_type": "code",
   "execution_count": null,
   "id": "28",
   "metadata": {},
   "outputs": [],
   "source": [
    "H = p1t * q1t_dot + p2t * q2t_dot - L\n",
    "H"
   ]
  },
  {
   "cell_type": "markdown",
   "id": "29",
   "metadata": {},
   "source": [
    "replacing $\\dot{q}$ with $p$, $q$"
   ]
  },
  {
   "cell_type": "code",
   "execution_count": null,
   "id": "30",
   "metadata": {},
   "outputs": [],
   "source": [
    "H_pq = H.subs(q1t_dot, q_dot_qp[q1t_dot]).subs(q2t_dot, q_dot_qp[q2t_dot]).simplify()\n",
    "H_pq"
   ]
  },
  {
   "cell_type": "markdown",
   "id": "31",
   "metadata": {},
   "source": [
    "$$ \\dot{q}_i = \\partial_{p_i} H $$\n",
    "\n",
    "$$ \\dot{p}_i = -\\partial_{q_i} H $$"
   ]
  },
  {
   "cell_type": "code",
   "execution_count": null,
   "id": "32",
   "metadata": {},
   "outputs": [],
   "source": [
    "dq1_eq = H_pq.diff(p1t)\n",
    "dq1_eq"
   ]
  },
  {
   "cell_type": "code",
   "execution_count": null,
   "id": "33",
   "metadata": {},
   "outputs": [],
   "source": [
    "dq2_eq = H_pq.diff(p2t)\n",
    "dq2_eq"
   ]
  },
  {
   "cell_type": "code",
   "execution_count": null,
   "id": "34",
   "metadata": {},
   "outputs": [],
   "source": [
    "dp1_eq = -H_pq.diff(q1t).simplify()\n",
    "dp1_eq"
   ]
  },
  {
   "cell_type": "code",
   "execution_count": null,
   "id": "35",
   "metadata": {},
   "outputs": [],
   "source": [
    "dp2_eq = -H_pq.diff(q2t).simplify()\n",
    "dp2_eq"
   ]
  },
  {
   "cell_type": "markdown",
   "id": "36",
   "metadata": {},
   "source": [
    "replacing $q(t)$ with $q$, similar for derivatives and $p$, so we can lambdify"
   ]
  },
  {
   "cell_type": "code",
   "execution_count": null,
   "id": "37",
   "metadata": {},
   "outputs": [],
   "source": [
    "q1_dot, q2_dot = symbols(\"dq_1 dq_2\")"
   ]
  },
  {
   "cell_type": "code",
   "execution_count": null,
   "id": "38",
   "metadata": {},
   "outputs": [],
   "source": [
    "dq1_eq"
   ]
  },
  {
   "cell_type": "code",
   "execution_count": null,
   "id": "39",
   "metadata": {},
   "outputs": [],
   "source": [
    "dq1_eq_subs = dq1_eq.subs(p1t, p1).subs(p2t, p2).subs(q1t, q1).subs(q2t, q2)\n",
    "dq1_eq_subs"
   ]
  },
  {
   "cell_type": "code",
   "execution_count": null,
   "id": "40",
   "metadata": {},
   "outputs": [],
   "source": [
    "dq2_eq"
   ]
  },
  {
   "cell_type": "code",
   "execution_count": null,
   "id": "41",
   "metadata": {},
   "outputs": [],
   "source": [
    "dq2_eq_subs = dq2_eq.subs(p1t, p1).subs(p2t, p2).subs(q1t, q1).subs(q2t, q2)\n",
    "dq2_eq_subs"
   ]
  },
  {
   "cell_type": "code",
   "execution_count": null,
   "id": "42",
   "metadata": {},
   "outputs": [],
   "source": [
    "dp1_eq"
   ]
  },
  {
   "cell_type": "code",
   "execution_count": null,
   "id": "43",
   "metadata": {},
   "outputs": [],
   "source": [
    "dp1_eq_subs = (\n",
    "    dp1_eq.subs(q1t, q1).subs(p1t, p1).subs(p2t, p2).subs(q1t, q1).subs(q2t, q2)\n",
    ")\n",
    "dp1_eq_subs"
   ]
  },
  {
   "cell_type": "code",
   "execution_count": null,
   "id": "44",
   "metadata": {},
   "outputs": [],
   "source": [
    "dp2_eq"
   ]
  },
  {
   "cell_type": "code",
   "execution_count": null,
   "id": "45",
   "metadata": {},
   "outputs": [],
   "source": [
    "dp2_eq_subs = (\n",
    "    dp2_eq.subs(q2t, q2).subs(p1t, p1).subs(p2t, p2).subs(q1t, q1).subs(q2t, q2)\n",
    ")\n",
    "dp2_eq_subs"
   ]
  },
  {
   "cell_type": "markdown",
   "id": "46",
   "metadata": {},
   "source": [
    "creating jax functions from the $p$ and $q$ equations"
   ]
  },
  {
   "cell_type": "code",
   "execution_count": null,
   "id": "47",
   "metadata": {},
   "outputs": [],
   "source": [
    "dp1_fun = sympy.lambdify((g, l1, l2, m1, m2, q1, q2, p1, p2), dp1_eq_subs, \"jax\")\n",
    "dp2_fun = sympy.lambdify((g, l1, l2, m1, m2, q1, q2, p1, p2), dp2_eq_subs, \"jax\")\n",
    "dq1_fun = sympy.lambdify((g, l1, l2, m1, m2, q1, q2, p1, p2), dq1_eq_subs, \"jax\")\n",
    "dq2_fun = sympy.lambdify((g, l1, l2, m1, m2, q1, q2, p1, p2), dq2_eq_subs, \"jax\")"
   ]
  },
  {
   "cell_type": "code",
   "execution_count": null,
   "id": "48",
   "metadata": {},
   "outputs": [],
   "source": [
    "p1_eq_subs = (\n",
    "    p1_eq.subs(q1t_dot, q1_dot).subs(q2t_dot, q2_dot).subs(q1t, q1).subs(q2t, q2)\n",
    ")\n",
    "p1_eq_subs"
   ]
  },
  {
   "cell_type": "code",
   "execution_count": null,
   "id": "49",
   "metadata": {},
   "outputs": [],
   "source": [
    "p2_eq_subs = (\n",
    "    p2_eq.subs(q1t_dot, q1_dot).subs(q2t_dot, q2_dot).subs(q1t, q1).subs(q2t, q2)\n",
    ")\n",
    "p2_eq_subs"
   ]
  },
  {
   "cell_type": "code",
   "execution_count": null,
   "id": "50",
   "metadata": {},
   "outputs": [],
   "source": [
    "p1_fun = sympy.lambdify((g, l1, l2, m1, m2, q1, q2, q1_dot, q2_dot), p1_eq_subs, \"math\")\n",
    "p2_fun = sympy.lambdify((g, l1, l2, m1, m2, q1, q2, q1_dot, q2_dot), p2_eq_subs, \"math\")"
   ]
  },
  {
   "cell_type": "code",
   "execution_count": null,
   "id": "51",
   "metadata": {},
   "outputs": [],
   "source": [
    "def ode_to_sole(t, z, args):\n",
    "    g, l1, l2, m1, m2 = args\n",
    "    q_1, q_2, p_1, p_2 = z\n",
    "\n",
    "    q_1_dot = dq1_fun(g, l1, l2, m1, m2, q_1, q_2, p_1, p_2)\n",
    "    q_2_dot = dq2_fun(g, l1, l2, m1, m2, q_1, q_2, p_1, p_2)\n",
    "    p_1_dot = dp1_fun(g, l1, l2, m1, m2, q_1, q_2, p_1, p_2)\n",
    "    p_2_dot = dp2_fun(g, l1, l2, m1, m2, q_1, q_2, p_1, p_2)\n",
    "\n",
    "    return q_1_dot, q_2_dot, p_1_dot, p_2_dot\n",
    "\n",
    "\n",
    "m1_val = 1.0\n",
    "m2_val = 1.0\n",
    "l1_val = 1.0\n",
    "l2_val = 1.0\n",
    "g_val = 9.81\n",
    "\n",
    "q_1_0_val = 1.0\n",
    "q_2_0_val = 0.0\n",
    "\n",
    "q_1_dot_0_val = 0.0\n",
    "q_2_dot_0_val = 0.0\n",
    "\n",
    "p_1_0_val = p1_fun(\n",
    "    g,\n",
    "    l1_val,\n",
    "    l2_val,\n",
    "    m1_val,\n",
    "    m2_val,\n",
    "    q_1_0_val,\n",
    "    q_2_0_val,\n",
    "    q_1_dot_0_val,\n",
    "    q_2_dot_0_val,\n",
    ")\n",
    "p_2_0_val = p2_fun(\n",
    "    g,\n",
    "    l1_val,\n",
    "    l2_val,\n",
    "    m1_val,\n",
    "    m2_val,\n",
    "    q_1_0_val,\n",
    "    q_2_0_val,\n",
    "    q_1_dot_0_val,\n",
    "    q_2_dot_0_val,\n",
    ")\n",
    "\n",
    "params = (g_val, l1_val, l2_val, m1_val, m2_val)\n",
    "initial_values = (q_1_0_val, q_2_0_val, p_1_0_val, p_2_0_val)\n",
    "params, initial_values"
   ]
  },
  {
   "cell_type": "code",
   "execution_count": null,
   "id": "52",
   "metadata": {},
   "outputs": [],
   "source": [
    "ti, tf = 0, 10\n",
    "t_span = [ti, tf]\n",
    "t_eval = jnp.linspace(ti, tf, 101)\n",
    "dt0 = t_eval[1].item() - t_eval[0].item()\n",
    "\n",
    "term = ODETerm(ode_to_sole)\n",
    "solver = Dopri5()\n",
    "saveat = SaveAt(ts=t_eval)\n",
    "stepsize_controller = PIDController(rtol=1e-5, atol=1e-5)\n",
    "\n",
    "\n",
    "sol = diffeqsolve(\n",
    "    term,\n",
    "    solver,\n",
    "    t0=ti,\n",
    "    t1=tf,\n",
    "    dt0=dt0,\n",
    "    y0=initial_values,\n",
    "    saveat=saveat,\n",
    "    stepsize_controller=stepsize_controller,\n",
    "    args=params,\n",
    ")"
   ]
  },
  {
   "cell_type": "code",
   "execution_count": null,
   "id": "53",
   "metadata": {},
   "outputs": [],
   "source": [
    "assert sol.ys is not None\n",
    "assert sol.ts is not None\n",
    "t_sol = sol.ts\n",
    "q_1_sol = sol.ys[0] % (2.0 * math.pi)\n",
    "q_2_sol = sol.ys[1] % (2.0 * math.pi)\n",
    "p_1_sol = sol.ys[2]\n",
    "p_2_sol = sol.ys[3]\n",
    "\n",
    "fig, axs = plt.subplots(nrows=2, sharex=True)\n",
    "ax = axs[0]\n",
    "ax.plot(t_sol, q_1_sol, label=\"$q_1$\")\n",
    "ax.plot(t_sol, p_1_sol, label=\"$p_1$\")\n",
    "ax.legend()\n",
    "\n",
    "ax = axs[1]\n",
    "ax.plot(t_sol, q_2_sol, label=r\"$q_2$\")\n",
    "ax.plot(t_sol, p_2_sol, label=r\"$p_2$\")\n",
    "ax.set(xlabel=\"t\")\n",
    "ax.legend()\n",
    "plt.tight_layout()"
   ]
  },
  {
   "cell_type": "markdown",
   "id": "54",
   "metadata": {},
   "source": [
    "pendulum #1:\n",
    "\n",
    "$$ x_1 = l_1 \\sin q_1 $$\n",
    "\n",
    "$$ y_1 = -l_1\\cos q_1 $$\n",
    "\n",
    "pendulum #2:\n",
    "\n",
    "$$ x_2 = l_1 \\sin q_1 + l_2 \\sin q_2 $$\n",
    "\n",
    "$$ y_2 = -l_1 \\cos q_1 - l_2 \\cos q_2 $$"
   ]
  },
  {
   "cell_type": "code",
   "execution_count": null,
   "id": "55",
   "metadata": {},
   "outputs": [],
   "source": [
    "trajectory = pl.DataFrame(\n",
    "    {\n",
    "        \"t\": t_sol.tolist(),\n",
    "        \"x1\": (l1_val * jnp.sin(q_1_sol)).tolist(),\n",
    "        \"y1\": (-l1_val * jnp.cos(q_1_sol)).tolist(),\n",
    "        \"x2\": (l1_val * jnp.sin(q_1_sol) + l2_val * jnp.sin(q_2_sol)).tolist(),\n",
    "        \"y2\": (-l1_val * jnp.cos(q_1_sol) - l2_val * jnp.cos(q_2_sol)).tolist(),\n",
    "    }\n",
    ")\n",
    "\n",
    "fig, ax = plt.subplots()\n",
    "ax.scatter(data=trajectory, x=\"x1\", y=\"y1\", label=\"1\")\n",
    "ax.scatter(data=trajectory, x=\"x2\", y=\"y2\", label=\"2\")\n",
    "ax.set(xlabel=\"x\", ylabel=\"y\")\n",
    "ax.legend(title=\"component\")\n",
    "plt.tight_layout()"
   ]
  },
  {
   "cell_type": "code",
   "execution_count": null,
   "id": "56",
   "metadata": {},
   "outputs": [],
   "source": [
    "def animate_trajectory(trajectory: pl.DataFrame, title: str, filename: str):\n",
    "    x1_vals = trajectory[\"x1\"].to_list()\n",
    "    y1_vals = trajectory[\"y1\"].to_list()\n",
    "    x2_vals = trajectory[\"x2\"].to_list()\n",
    "    y2_vals = trajectory[\"y2\"].to_list()\n",
    "\n",
    "    x_min = min(x1_vals + x2_vals) - 1\n",
    "    x_max = max(x1_vals + x2_vals) + 1\n",
    "\n",
    "    y_min = min(y1_vals + y2_vals) - 1\n",
    "    y_max = max(y1_vals + y2_vals) + 1\n",
    "\n",
    "    frames = []\n",
    "\n",
    "    @gif.frame\n",
    "    def plot_frame(i: int) -> Figure:\n",
    "        fig, ax = plt.subplots()\n",
    "\n",
    "        ax.plot(x1_vals[: i + 1], y1_vals[: i + 1], color=\"lightblue\", linewidth=2)\n",
    "        ax.plot(x1_vals[i], y1_vals[i], \"bo\", markersize=8, label=\"1\")\n",
    "\n",
    "        ax.plot(x2_vals[: i + 1], y2_vals[: i + 1], color=\"lightgreen\", linewidth=2)\n",
    "        ax.plot(x2_vals[i], y2_vals[i], \"go\", markersize=8, label=\"2\")\n",
    "\n",
    "        ax.set_xlim(x_min, x_max)\n",
    "        ax.set_ylim(y_min, y_max)\n",
    "\n",
    "        ax.set_xlabel(\"x\")\n",
    "        ax.set_ylabel(\"y\")\n",
    "        ax.legend(title=\"component\")\n",
    "\n",
    "        ax.set_title(title)\n",
    "\n",
    "        return fig\n",
    "\n",
    "    for i in range(len(x1_vals)):\n",
    "        frames.append(plot_frame(i))\n",
    "\n",
    "    gif.save(frames, filename, duration=300)\n",
    "\n",
    "\n",
    "animate_trajectory(\n",
    "    trajectory,\n",
    "    \"Double pendulum with gravity\",\n",
    "    \"trajectory-double-pendulum-with-gravity.gif\",\n",
    ")"
   ]
  },
  {
   "cell_type": "code",
   "execution_count": null,
   "id": "57",
   "metadata": {},
   "outputs": [],
   "source": []
  }
 ],
 "metadata": {
  "language_info": {
   "codemirror_mode": {
    "name": "ipython",
    "version": 3
   },
   "file_extension": ".py",
   "mimetype": "text/x-python",
   "name": "python",
   "nbconvert_exporter": "python",
   "pygments_lexer": "ipython3",
   "version": "3.13.3"
  }
 },
 "nbformat": 4,
 "nbformat_minor": 5
}
