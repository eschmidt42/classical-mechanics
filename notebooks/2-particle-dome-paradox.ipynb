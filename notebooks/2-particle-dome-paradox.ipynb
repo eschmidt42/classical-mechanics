{
 "cells": [
  {
   "cell_type": "markdown",
   "id": "0",
   "metadata": {},
   "source": [
    "# Dome paradox"
   ]
  },
  {
   "cell_type": "markdown",
   "id": "1",
   "metadata": {},
   "source": [
    "The dome, John D. Norton, 2008\n",
    "\n",
    "https://www.cambridge.org/core/product/identifier/S0031824800011843/type/journal_article\n",
    "\n",
    "DOI: 10.1086/594524"
   ]
  },
  {
   "cell_type": "code",
   "execution_count": null,
   "id": "2",
   "metadata": {},
   "outputs": [],
   "source": [
    "%load_ext autoreload\n",
    "%autoreload 2"
   ]
  },
  {
   "cell_type": "code",
   "execution_count": null,
   "id": "3",
   "metadata": {},
   "outputs": [],
   "source": [
    "from sympy import dsolve, symbols, Function, Eq\n",
    "import sympy\n",
    "import polars as pl\n",
    "import torch\n",
    "import numpy as np\n",
    "import gif\n",
    "import matplotlib.pyplot as plt\n",
    "from matplotlib.figure import Figure\n",
    "from PIL import Image\n",
    "import math\n",
    "from diffrax import diffeqsolve, Dopri5, ODETerm, SaveAt, PIDController\n",
    "import jax.numpy as jnp\n",
    "from jaxtyping import Float, Array\n",
    "import seaborn as sns\n",
    "from scipy.integrate import solve_ivp"
   ]
  },
  {
   "cell_type": "markdown",
   "id": "4",
   "metadata": {},
   "source": [
    "## Maths"
   ]
  },
  {
   "cell_type": "markdown",
   "id": "5",
   "metadata": {},
   "source": [
    "Case description: We have a particle sitting on top of a dome, without velocity or acceleration. A uniform gravitational field may effect the particle."
   ]
  },
  {
   "cell_type": "markdown",
   "id": "6",
   "metadata": {},
   "source": [
    "## Newton"
   ]
  },
  {
   "cell_type": "markdown",
   "id": "7",
   "metadata": {},
   "source": [
    "rotationally symmetric dome described in paper with height function\n",
    "\n",
    "$$ h = \\frac{2}{3g} r^{3/2} $$\n",
    "\n",
    "there is no minus sign here because of the definition of the z-axis, I find this confusing. the hightest point should be at $r=0$. hence\n",
    "\n",
    "$$ h = - \\frac{2}{3g} r^{3/2} $$"
   ]
  },
  {
   "cell_type": "markdown",
   "id": "8",
   "metadata": {},
   "source": [
    "so we write out uniform gravitation potential as\n",
    "\n",
    "$$ V = mgh = - \\frac{2m}{3} r^{3/2} $$"
   ]
  },
  {
   "cell_type": "markdown",
   "id": "9",
   "metadata": {},
   "source": [
    "$$ F = ma $$\n",
    "\n",
    "which we just assume to be\n",
    "\n",
    "$$ F = m\\ddot{r} $$"
   ]
  },
  {
   "cell_type": "markdown",
   "id": "10",
   "metadata": {},
   "source": [
    "Because \n",
    "\n",
    "$$ F = - \\frac{dV}{dr} $$\n",
    "\n",
    "we find\n",
    "\n",
    "$$ m\\ddot{r} = m \\sqrt{r} $$\n",
    "\n",
    "so\n",
    "\n",
    "$$ \\ddot{r} = \\sqrt{r} $$"
   ]
  },
  {
   "cell_type": "code",
   "execution_count": null,
   "id": "11",
   "metadata": {},
   "outputs": [],
   "source": [
    "r = symbols(\"r\", cls=Function)\n",
    "t = symbols(\"t\")\n",
    "\n",
    "eq = Eq(r(t).diff(t, t), sympy.sqrt(r(t)))\n",
    "eq"
   ]
  },
  {
   "cell_type": "code",
   "execution_count": null,
   "id": "12",
   "metadata": {},
   "outputs": [],
   "source": [
    "res = dsolve(eq)"
   ]
  },
  {
   "cell_type": "markdown",
   "id": "13",
   "metadata": {},
   "source": [
    "ugh so we get two solutions"
   ]
  },
  {
   "cell_type": "code",
   "execution_count": null,
   "id": "14",
   "metadata": {},
   "outputs": [],
   "source": [
    "res[0]"
   ]
  },
  {
   "cell_type": "code",
   "execution_count": null,
   "id": "15",
   "metadata": {},
   "outputs": [],
   "source": [
    "res[1]"
   ]
  },
  {
   "cell_type": "markdown",
   "id": "16",
   "metadata": {},
   "source": [
    "for comparison without the square root we get only one"
   ]
  },
  {
   "cell_type": "code",
   "execution_count": null,
   "id": "17",
   "metadata": {},
   "outputs": [],
   "source": [
    "eq = Eq(r(t).diff(t, t), r(t))\n",
    "res = dsolve(eq)"
   ]
  },
  {
   "cell_type": "code",
   "execution_count": null,
   "id": "18",
   "metadata": {},
   "outputs": [],
   "source": [
    "res"
   ]
  },
  {
   "cell_type": "markdown",
   "id": "19",
   "metadata": {},
   "source": [
    "Let's do the Lagrangian / Hamiltonian formalism for the fun of it"
   ]
  },
  {
   "cell_type": "markdown",
   "id": "20",
   "metadata": {},
   "source": [
    "### Lagrangian"
   ]
  },
  {
   "cell_type": "markdown",
   "id": "21",
   "metadata": {},
   "source": [
    "$$ L = T - V $$\n",
    "\n",
    "$$ T =  \\frac{1}{2} m \\left( \\dot{q}_x^2 + \\dot{q}_y^2 + \\dot{q}_z^2 \\right)  $$\n",
    "\n",
    "the uniform  graviational potential is\n",
    "\n",
    "$$ V_G = m g z $$\n",
    "\n",
    "shape of the dome\n",
    "\n",
    "$$ h(r) = - \\frac{2}{3g} r^{3/2}$$\n",
    "\n",
    "where $r$ is the \"radial distance coordinate on the surface of the dome\". minus sign is a bit weird, but the highest point of the dome needs to be at the origin. \n",
    "\n",
    "important is that the dome is radially symmetric. \n",
    "\n",
    "since the potential energy should be largest at $ r = 0 $\n",
    "\n",
    "$$ V_D = m g h(r) $$"
   ]
  },
  {
   "cell_type": "markdown",
   "id": "22",
   "metadata": {},
   "source": [
    "$$ x = r \\cos \\phi $$\n",
    "\n",
    "$$ y = r \\sin \\phi $$\n",
    "\n",
    "$$ \\dot{x} = \\dot{r} \\cos \\phi - r \\dot{\\phi} \\sin \\phi $$\n",
    "\n",
    "$$ \\dot{y} = \\dot{r} \\sin \\phi + r \\dot{\\phi} \\cos \\phi $$\n",
    "\n",
    "$$ \\left( \\dot{x}^2 + \\dot{y}^2 \\right) \\rightarrow \\left( r^2 \\dot\\phi^2 + \\dot{r}^2 \\right) $$\n",
    "\n"
   ]
  },
  {
   "cell_type": "markdown",
   "id": "23",
   "metadata": {},
   "source": [
    "So we have \n",
    "\n",
    "$$ T =  \\frac{1}{2} m \\left( \\dot{q}_r^2 \\dot{q}_\\phi^2 + \\dot{q}_r^2 + \\dot{q}_z^2 \\right)  $$\n",
    "\n",
    "$$ V_D(q_r) = m g h(q_r) $$"
   ]
  },
  {
   "cell_type": "markdown",
   "id": "24",
   "metadata": {},
   "source": [
    "$$ L = T - V = \\frac{1}{2} m \\left( \\dot{q}_r^2 \\dot{q}_\\phi^2 + \\dot{q}_r^2 + \\dot{q}_z^2 \\right) - m g h(q_r) $$"
   ]
  },
  {
   "cell_type": "markdown",
   "id": "25",
   "metadata": {},
   "source": [
    "using \n",
    "\n",
    "$$ p = \\partial_{\\dot{q}} L $$\n",
    "\n",
    "we get\n",
    "\n",
    "$$ p_r = \\partial_{\\dot{q}_r} L = m \\dot{q}_r \\rightarrow \\dot{q}_r = \\frac{p_r}{m}$$\n",
    "\n",
    "$$ p_\\phi = \\partial_{\\dot{q}_\\phi} L = 0 $$\n",
    "\n",
    "$$ p_z = \\partial_{\\dot{q}_z} L = m \\dot{q}_z \\rightarrow \\dot{q}_z = \\frac{p_z}{m}$$"
   ]
  },
  {
   "cell_type": "code",
   "execution_count": null,
   "id": "26",
   "metadata": {},
   "outputs": [],
   "source": [
    "def get_dome_h(r: Array, g: float) -> Array:\n",
    "    return -2 / 3.0 / g * r ** (3.0 / 2.0)\n",
    "\n",
    "\n",
    "r = jnp.linspace(0, 5, 101)\n",
    "g = 9.81\n",
    "h = get_dome_h(r, g)\n",
    "\n",
    "ax = sns.lineplot(x=r, y=h)\n",
    "ax.set(xlabel=\"r\", ylabel=\"h\", title=\"Norton's dome h(r)\")\n",
    "plt.tight_layout()"
   ]
  },
  {
   "cell_type": "markdown",
   "id": "27",
   "metadata": {},
   "source": [
    "### Hamiltonian"
   ]
  },
  {
   "cell_type": "markdown",
   "id": "28",
   "metadata": {},
   "source": [
    "$$ H = \\sum_i p_i \\dot{q}_i - L $$\n",
    "\n",
    "$$ H = p_r \\dot{q}_r + p_z \\dot{q}_z - \\frac{1}{2} m \\left( \\dot{q}_r^2 \\dot{q}_\\phi^2 + \\dot{q}_r^2 + \\dot{q}_z^2 \\right) + m g h(q_r) $$"
   ]
  },
  {
   "cell_type": "markdown",
   "id": "29",
   "metadata": {},
   "source": [
    "$$ H = p_r \\frac{p_r}{m} + p_z \\frac{p_z}{m} - \\frac{1}{2} m \\left( \\left( \\frac{p_r}{m} \\right)^2 \\dot{q}_\\phi^2 + \\left( \\frac{p_r}{m} \\right)^2 + \\left( \\frac{p_z}{m} \\right)^2 \\right) + m g h(q_r) $$"
   ]
  },
  {
   "cell_type": "markdown",
   "id": "30",
   "metadata": {},
   "source": [
    "$$ H = \\frac{1}{2m} \\left( p_r^2 + p_z^2 - p_r^2 \\dot{q}_\\phi^2 \\right)  + m g h(q_r) $$"
   ]
  },
  {
   "cell_type": "markdown",
   "id": "31",
   "metadata": {},
   "source": [
    "$$ \\dot{q}_i = \\partial_{p_i} H $$\n",
    "\n",
    "$$ \\dot{p}_i = - \\partial_{q_i} H $$"
   ]
  },
  {
   "cell_type": "markdown",
   "id": "32",
   "metadata": {},
   "source": [
    "$\\phi$:\n",
    "\n",
    "$$ \\dot{q}_\\phi = 0 $$\n",
    "\n",
    "$$ \\dot{p}_\\phi = 0 $$"
   ]
  },
  {
   "cell_type": "markdown",
   "id": "33",
   "metadata": {},
   "source": [
    "$r$:\n",
    "\n",
    "$$ \\dot{q}_r = \\frac{p_r}{m} (1 - \\dot{q}_\\phi^2) \\rightarrow \\frac{p_r}{m} $$\n",
    "\n",
    "$$ \\dot{p}_r = - mg\\partial_{q_r}h(q_r) = -m \\sqrt{r} $$"
   ]
  },
  {
   "cell_type": "markdown",
   "id": "34",
   "metadata": {},
   "source": [
    "$z$:\n",
    "\n",
    "$$ \\dot{q}_z = \\frac{p_z}{m}$$\n",
    "\n",
    "$$ \\dot{p}_z = 0 $$"
   ]
  },
  {
   "cell_type": "markdown",
   "id": "35",
   "metadata": {},
   "source": [
    "Since we have $\\sqrt{r}$ now as part of $\\dot{p}_r$ I guess the analytical solution here also has two solutions, as the Newton version.\n"
   ]
  },
  {
   "cell_type": "markdown",
   "id": "36",
   "metadata": {},
   "source": [
    "\n",
    "Let's solve the equations numerically for fun anyway"
   ]
  },
  {
   "cell_type": "markdown",
   "id": "37",
   "metadata": {},
   "source": [
    "initial conditions at $t = 0$:\n",
    "\n",
    "* $q_r = 0$\n",
    "* $\\dot{q}_r = 0$\n",
    "* $q_z = 0$\n",
    "* $\\dot{q}_z = 0$"
   ]
  },
  {
   "cell_type": "code",
   "execution_count": null,
   "id": "38",
   "metadata": {},
   "outputs": [],
   "source": [
    "def ode_to_sole(t, z, args):\n",
    "    m, g = args\n",
    "    q_r, q_z, p_r, p_z = z\n",
    "\n",
    "    q_r_dot = p_r / m\n",
    "    q_z_dot = p_z / m\n",
    "    p_r_dot = -m * jnp.sqrt(q_r)\n",
    "    p_z_dot = 0\n",
    "\n",
    "    return q_r_dot, q_z_dot, p_r_dot, p_z_dot\n",
    "\n",
    "\n",
    "m = 1.0\n",
    "g = 9.81\n",
    "\n",
    "q_r_0 = 0.0\n",
    "q_z_0 = 0.0\n",
    "\n",
    "q_r_dot_0 = 0.0\n",
    "q_z_dot_0 = 0.0\n",
    "\n",
    "p_r_0 = q_r_0 * m\n",
    "p_z_0 = q_z_0 * m\n",
    "\n",
    "\n",
    "ti, tf = 0, 10\n",
    "t_span = [ti, tf]\n",
    "t_eval = jnp.linspace(ti, tf, 101)\n",
    "term = ODETerm(ode_to_sole)\n",
    "solver = Dopri5()\n",
    "saveat = SaveAt(ts=t_eval)\n",
    "stepsize_controller = PIDController(rtol=1e-5, atol=1e-5)\n",
    "dt0 = t_eval[1].item() - t_eval[0].item()\n",
    "params = (m, g)\n",
    "initial_values = (q_r_0, q_z_0, p_r_0, p_z_0)\n",
    "sol = diffeqsolve(\n",
    "    term,\n",
    "    solver,\n",
    "    t0=ti,\n",
    "    t1=tf,\n",
    "    dt0=dt0,\n",
    "    y0=initial_values,\n",
    "    saveat=saveat,\n",
    "    stepsize_controller=stepsize_controller,\n",
    "    args=params,\n",
    ")"
   ]
  },
  {
   "cell_type": "code",
   "execution_count": null,
   "id": "39",
   "metadata": {},
   "outputs": [],
   "source": [
    "assert sol.ys is not None\n",
    "t_sol = sol.ts\n",
    "q_r_sol = sol.ys[0]\n",
    "q_z_sol = sol.ys[1]\n",
    "p_r_sol = sol.ys[2]\n",
    "p_z_sol = sol.ys[3]\n",
    "\n",
    "fig, axs = plt.subplots(nrows=2, sharex=True)\n",
    "ax = axs[0]\n",
    "ax.plot(t_sol, q_r_sol, label=\"$q_r$\")\n",
    "ax.plot(t_sol, p_r_sol, label=\"$p_r$\")\n",
    "ax.legend()\n",
    "\n",
    "ax = axs[1]\n",
    "ax.plot(t_sol, q_z_sol, label=r\"$q_z$\")\n",
    "ax.plot(t_sol, p_z_sol, label=r\"$p_z$\")\n",
    "ax.set(xlabel=\"t\", ylabel=r\"$z$\")\n",
    "ax.legend()\n",
    "plt.tight_layout()"
   ]
  }
 ],
 "metadata": {
  "language_info": {
   "codemirror_mode": {
    "name": "ipython",
    "version": 3
   },
   "file_extension": ".py",
   "mimetype": "text/x-python",
   "name": "python",
   "nbconvert_exporter": "python",
   "pygments_lexer": "ipython3",
   "version": "3.13.3"
  }
 },
 "nbformat": 4,
 "nbformat_minor": 5
}
