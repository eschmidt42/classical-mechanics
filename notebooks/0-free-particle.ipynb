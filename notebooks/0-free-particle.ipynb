{
 "cells": [
  {
   "cell_type": "code",
   "execution_count": null,
   "id": "0",
   "metadata": {},
   "outputs": [],
   "source": [
    "%load_ext autoreload\n",
    "%autoreload 2"
   ]
  },
  {
   "cell_type": "code",
   "execution_count": null,
   "id": "1",
   "metadata": {},
   "outputs": [],
   "source": [
    "from sympy import dsolve, symbols, Function, Eq\n",
    "import sympy\n",
    "import polars as pl\n",
    "import torch\n",
    "import gif\n",
    "import matplotlib.pyplot as plt\n",
    "from matplotlib.figure import Figure\n",
    "from PIL import Image\n",
    "import math"
   ]
  },
  {
   "cell_type": "code",
   "execution_count": null,
   "id": "2",
   "metadata": {},
   "outputs": [],
   "source": [
    "SAVE_GIFS = True"
   ]
  },
  {
   "cell_type": "markdown",
   "id": "3",
   "metadata": {},
   "source": [
    "## free particle - static reference frame"
   ]
  },
  {
   "cell_type": "markdown",
   "id": "4",
   "metadata": {},
   "source": [
    "$$ L = T - V = \\frac{1}{2} m \\left( \\dot{x}^2 + \\dot{y}^2 \\right) $$\n",
    "\n",
    "$$ \\frac{dL}{dx} = \\frac{d}{dt} \\frac{dL}{d\\dot{x}} $$\n",
    "\n",
    "$$ \\frac{dL}{dy} = \\frac{d}{dt} \\frac{dL}{d\\dot{y}} $$\n",
    "\n",
    "$$ 0 = m \\ddot{x} $$\n",
    "\n",
    "$$ 0 = m \\ddot{y} $$"
   ]
  },
  {
   "cell_type": "code",
   "execution_count": null,
   "id": "5",
   "metadata": {},
   "outputs": [],
   "source": [
    "x = symbols(\"x\", cls=Function)\n",
    "t, m = symbols(\"t m\")\n",
    "x(t)"
   ]
  },
  {
   "cell_type": "code",
   "execution_count": null,
   "id": "6",
   "metadata": {},
   "outputs": [],
   "source": [
    "diffeq = Eq(m * x(t).diff(t, t), 0)\n",
    "diffeq"
   ]
  },
  {
   "cell_type": "code",
   "execution_count": null,
   "id": "7",
   "metadata": {},
   "outputs": [],
   "source": [
    "dsolve(diffeq)"
   ]
  },
  {
   "cell_type": "markdown",
   "id": "8",
   "metadata": {},
   "source": [
    "$$ x = C_1 + C_2 t $$\n",
    "\n",
    "$$ y = C_3 + C_4 t $$"
   ]
  },
  {
   "cell_type": "code",
   "execution_count": null,
   "id": "9",
   "metadata": {},
   "outputs": [],
   "source": [
    "def calc_next_position(t: float, position: float, velocity: float) -> float:\n",
    "    return position + velocity * t\n",
    "\n",
    "\n",
    "calc_next_position(1, 0, 1)"
   ]
  },
  {
   "cell_type": "code",
   "execution_count": null,
   "id": "10",
   "metadata": {},
   "outputs": [],
   "source": [
    "def calc_next_positions(\n",
    "    t_values: torch.Tensor, position: float, velocity: float\n",
    ") -> list[float]:\n",
    "    return [calc_next_position(float(t), position, velocity) for t in t_values]\n",
    "\n",
    "\n",
    "# Initial condition\n",
    "x0, vx0 = 0, -1\n",
    "y0, vy0 = 1, 1\n",
    "\n",
    "t_values = torch.linspace(0, 2 * math.pi, 201)\n",
    "\n",
    "x_positions = calc_next_positions(t_values, x0, vx0)\n",
    "y_positions = calc_next_positions(t_values, y0, vy0)\n",
    "\n",
    "trajectory = pl.DataFrame({\"t\": t_values.tolist(), \"x\": x_positions, \"y\": y_positions})\n",
    "trajectory.head(2)"
   ]
  },
  {
   "cell_type": "code",
   "execution_count": null,
   "id": "11",
   "metadata": {},
   "outputs": [],
   "source": [
    "def animate_trajectory(trajectory: pl.DataFrame, title: str, filename: str):\n",
    "    x_vals = trajectory[\"x\"].to_list()\n",
    "    y_vals = trajectory[\"y\"].to_list()\n",
    "\n",
    "    x_min = min(x_vals) - 1\n",
    "    x_max = max(x_vals) + 1\n",
    "\n",
    "    y_min = min(y_vals) - 1\n",
    "    y_max = max(y_vals) + 1\n",
    "\n",
    "    frames = []\n",
    "\n",
    "    @gif.frame\n",
    "    def plot_frame(i: int) -> Figure:\n",
    "        fig, ax = plt.subplots()\n",
    "\n",
    "        ax.plot(x_vals[: i + 1], y_vals[: i + 1], color=\"lightblue\", linewidth=2)\n",
    "        ax.plot(x_vals[i], y_vals[i], \"bo\", markersize=8)\n",
    "\n",
    "        ax.set_xlim(x_min, x_max)\n",
    "        ax.set_ylim(y_min, y_max)\n",
    "\n",
    "        ax.set_xlabel(\"x\")\n",
    "        ax.set_ylabel(\"y\")\n",
    "\n",
    "        ax.set_title(title)\n",
    "\n",
    "        return fig\n",
    "\n",
    "    if SAVE_GIFS:\n",
    "        for i in range(len(x_vals)):\n",
    "            frames.append(plot_frame(i))\n",
    "\n",
    "        gif.save(frames, filename, duration=300)\n",
    "\n",
    "\n",
    "animate_trajectory(\n",
    "    trajectory,\n",
    "    \"Animated Particle Trajectory in Static Reference Frame\",\n",
    "    \"trajectory.gif\",\n",
    ")"
   ]
  },
  {
   "cell_type": "markdown",
   "id": "12",
   "metadata": {},
   "source": [
    "## free particle - constantly rotating reference frame"
   ]
  },
  {
   "cell_type": "markdown",
   "id": "13",
   "metadata": {},
   "source": [
    "$$ [x, y] \\cdot R = [C_1 + C_2 t, C_3 + C_4 t] \\cdot R $$\n",
    "\n",
    "where $R$ is the rotation matrix whose values depend on $\\theta(t)$, see [wiki](https://en.wikipedia.org/wiki/Rotating_reference_frame)."
   ]
  },
  {
   "cell_type": "code",
   "execution_count": null,
   "id": "14",
   "metadata": {},
   "outputs": [],
   "source": [
    "def calc_rotating_reference_frame(\n",
    "    t: float, x: float, y: float, freq: float, theta0: float\n",
    ") -> tuple[float, float]:\n",
    "    theta = theta0 + t * freq\n",
    "    c = math.cos(-theta)\n",
    "    s = math.sin(-theta)\n",
    "    x_rot = x * c - y * s\n",
    "    y_rot = x * s + y * c\n",
    "    return x_rot, y_rot\n",
    "\n",
    "\n",
    "calc_rotating_reference_frame(1.0, x_positions[0], y_positions[0], 0.1, 0.0)"
   ]
  },
  {
   "cell_type": "code",
   "execution_count": null,
   "id": "15",
   "metadata": {},
   "outputs": [],
   "source": [
    "theta0 = 0.0\n",
    "freq = 1.0\n",
    "\n",
    "\n",
    "def calc_rotated_positions(\n",
    "    t_values: torch.Tensor,\n",
    "    x_positions: list[float],\n",
    "    y_positions: list[float],\n",
    "    freq: float,\n",
    "    theta0: float,\n",
    ") -> tuple[list[float], list[float]]:\n",
    "    xy_rots = [\n",
    "        calc_rotating_reference_frame(float(t), x, y, freq, theta0)\n",
    "        for t, x, y in zip(t_values, x_positions, y_positions, strict=True)\n",
    "    ]\n",
    "    x_rots = [v[0] for v in xy_rots]\n",
    "    y_rots = [v[1] for v in xy_rots]\n",
    "    return x_rots, y_rots\n",
    "\n",
    "\n",
    "x_positions_rot, y_positions_rot = calc_rotated_positions(\n",
    "    t_values, x_positions, y_positions, freq, theta0\n",
    ")\n",
    "\n",
    "trajectory_rotating = pl.DataFrame(\n",
    "    {\"t\": t_values.tolist(), \"x\": x_positions_rot, \"y\": y_positions_rot}\n",
    ")"
   ]
  },
  {
   "cell_type": "code",
   "execution_count": null,
   "id": "16",
   "metadata": {},
   "outputs": [],
   "source": [
    "animate_trajectory(\n",
    "    trajectory_rotating,\n",
    "    \"Animated Particle Trajectory in Rotating Reference Frame\",\n",
    "    \"trajectory-rotating.gif\",\n",
    ")"
   ]
  }
 ],
 "metadata": {
  "language_info": {
   "codemirror_mode": {
    "name": "ipython",
    "version": 3
   },
   "file_extension": ".py",
   "mimetype": "text/x-python",
   "name": "python",
   "nbconvert_exporter": "python",
   "pygments_lexer": "ipython3",
   "version": "3.13.3"
  }
 },
 "nbformat": 4,
 "nbformat_minor": 5
}
