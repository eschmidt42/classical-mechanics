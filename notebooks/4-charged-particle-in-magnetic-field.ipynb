{
 "cells": [
  {
   "cell_type": "markdown",
   "id": "0",
   "metadata": {},
   "source": [
    "# Charged particle in a magnetic field"
   ]
  },
  {
   "cell_type": "code",
   "execution_count": null,
   "id": "1",
   "metadata": {},
   "outputs": [],
   "source": [
    "%load_ext autoreload\n",
    "%autoreload 2"
   ]
  },
  {
   "cell_type": "code",
   "execution_count": null,
   "id": "2",
   "metadata": {},
   "outputs": [],
   "source": [
    "import sympy\n",
    "from diffrax import diffeqsolve, Dopri5, ODETerm, SaveAt, PIDController\n",
    "import jax.numpy as jnp\n",
    "import matplotlib.pyplot as plt\n",
    "import polars as pl\n",
    "from matplotlib.figure import Figure\n",
    "import gif"
   ]
  },
  {
   "cell_type": "markdown",
   "id": "3",
   "metadata": {},
   "source": [
    "## Maths"
   ]
  },
  {
   "cell_type": "markdown",
   "id": "4",
   "metadata": {},
   "source": [
    "### Lagrangian"
   ]
  },
  {
   "cell_type": "markdown",
   "id": "5",
   "metadata": {},
   "source": [
    "$$ T = \\frac{1}{2} \\sum_i \\dot{q}_i^2 $$\n",
    "\n",
    "$$ V = - \\frac{e}{c} \\vec{A} \\cdot \\vec{v}$$\n",
    "\n",
    "$$ L = T - V = \\frac{1}{2} \\sum_i \\dot{q}_i^2 + \\frac{e}{c} \\vec{A} \\cdot \\vec{v} $$"
   ]
  },
  {
   "cell_type": "code",
   "execution_count": null,
   "id": "6",
   "metadata": {},
   "outputs": [],
   "source": [
    "t, e, c, b, m = sympy.symbols(\"t e c b m\")\n",
    "q1f, q2f, p1f, p2f = sympy.symbols(\"q1f q2f p1f p2f\", cls=sympy.Function)\n",
    "q1, q2, p1, p2, q1_dot, q2_dot = sympy.symbols(\"q1 q2 p1 p2 q1_dot q2_dot\")\n",
    "\n",
    "q1t = q1f(t)\n",
    "q2t = q2f(t)\n",
    "q1t_dot = q1t.diff(t)\n",
    "q2t_dot = q2t.diff(t)\n",
    "\n",
    "p1t = p1f(t)\n",
    "p2t = p2f(t)\n",
    "p1t_dot = p1t.diff(t)\n",
    "p2t_dot = p2t.diff(t)"
   ]
  },
  {
   "cell_type": "code",
   "execution_count": null,
   "id": "7",
   "metadata": {},
   "outputs": [],
   "source": [
    "T = 0.5 * m * (q1t_dot**2 + q2t_dot**2)\n",
    "T"
   ]
  },
  {
   "cell_type": "markdown",
   "id": "8",
   "metadata": {},
   "source": [
    "$$ A = (0, bq_1, 0) $$"
   ]
  },
  {
   "cell_type": "code",
   "execution_count": null,
   "id": "9",
   "metadata": {},
   "outputs": [],
   "source": [
    "V = -e / c * b * q1t * q2t_dot\n",
    "V"
   ]
  },
  {
   "cell_type": "markdown",
   "id": "10",
   "metadata": {},
   "source": [
    "plugging it into the Lagrangian\n",
    "\n",
    "$$ L = \\frac{1}{2} \\sum_i \\dot{q}_i^2 + \\frac{e}{c} bq_1 \\cdot \\dot{q}_2 $$"
   ]
  },
  {
   "cell_type": "code",
   "execution_count": null,
   "id": "11",
   "metadata": {},
   "outputs": [],
   "source": [
    "L = T - V\n",
    "L"
   ]
  },
  {
   "cell_type": "markdown",
   "id": "12",
   "metadata": {},
   "source": [
    "using \n",
    "\n",
    "$$ p = \\partial_{\\dot{q}} L $$"
   ]
  },
  {
   "cell_type": "code",
   "execution_count": null,
   "id": "13",
   "metadata": {},
   "outputs": [],
   "source": [
    "p1t_L = L.diff(q1t_dot)\n",
    "p1t_L"
   ]
  },
  {
   "cell_type": "code",
   "execution_count": null,
   "id": "14",
   "metadata": {},
   "outputs": [],
   "source": [
    "p2t_L = L.diff(q2t_dot)\n",
    "p2t_L"
   ]
  },
  {
   "cell_type": "markdown",
   "id": "15",
   "metadata": {},
   "source": [
    "express $\\dot{q}$ in terms of $p$"
   ]
  },
  {
   "cell_type": "code",
   "execution_count": null,
   "id": "16",
   "metadata": {},
   "outputs": [],
   "source": [
    "p_eq1 = p1t - p1t_L\n",
    "p_eq2 = p2t - p2t_L\n",
    "\n",
    "q_dot_qp = sympy.solve((p_eq1, p_eq2), (q1t_dot, q2t_dot))\n",
    "q_dot_qp"
   ]
  },
  {
   "cell_type": "markdown",
   "id": "17",
   "metadata": {},
   "source": [
    "$$ H = \\sum_i p_i \\dot{q}_i - L"
   ]
  },
  {
   "cell_type": "code",
   "execution_count": null,
   "id": "18",
   "metadata": {},
   "outputs": [],
   "source": [
    "H = p1t * q1t_dot + p2t * q2t_dot - L\n",
    "H"
   ]
  },
  {
   "cell_type": "markdown",
   "id": "19",
   "metadata": {},
   "source": [
    "replacing $\\dot{q}$ with $p$, $q$"
   ]
  },
  {
   "cell_type": "code",
   "execution_count": null,
   "id": "20",
   "metadata": {},
   "outputs": [],
   "source": [
    "H_pq = H.subs(q1t_dot, q_dot_qp[q1t_dot]).subs(q2t_dot, q_dot_qp[q2t_dot]).simplify()\n",
    "H_pq"
   ]
  },
  {
   "cell_type": "markdown",
   "id": "21",
   "metadata": {},
   "source": [
    "computing Hamilton equations of motion\n",
    "\n",
    "$$ \\dot{q}_i = \\partial_{p_i} H $$\n",
    "\n",
    "$$ \\dot{p}_i = -\\partial_{q_i} H $$"
   ]
  },
  {
   "cell_type": "code",
   "execution_count": null,
   "id": "22",
   "metadata": {},
   "outputs": [],
   "source": [
    "q1t_dot_H = H_pq.diff(p1t)\n",
    "q1t_dot_H"
   ]
  },
  {
   "cell_type": "code",
   "execution_count": null,
   "id": "23",
   "metadata": {},
   "outputs": [],
   "source": [
    "q2t_dot_H = H_pq.diff(p2t)\n",
    "q2t_dot_H"
   ]
  },
  {
   "cell_type": "code",
   "execution_count": null,
   "id": "24",
   "metadata": {},
   "outputs": [],
   "source": [
    "p1t_dot_H = -H_pq.diff(q1t)\n",
    "p1t_dot_H"
   ]
  },
  {
   "cell_type": "code",
   "execution_count": null,
   "id": "25",
   "metadata": {},
   "outputs": [],
   "source": [
    "p2t_dot_H = -H_pq.diff(q2t)\n",
    "p2t_dot_H"
   ]
  },
  {
   "cell_type": "markdown",
   "id": "26",
   "metadata": {},
   "source": [
    "replacing $q(t)$ with $q$, similar for derivatives and $p$, so we can lambdify"
   ]
  },
  {
   "cell_type": "code",
   "execution_count": null,
   "id": "27",
   "metadata": {},
   "outputs": [],
   "source": [
    "q1t_dot_H_subs = q1t_dot_H.subs(p1t, p1)\n",
    "q1t_dot_H_subs"
   ]
  },
  {
   "cell_type": "code",
   "execution_count": null,
   "id": "28",
   "metadata": {},
   "outputs": [],
   "source": [
    "q2t_dot_H_subs = q2t_dot_H.subs(q1t, q1).subs(p2t, p2)\n",
    "q2t_dot_H_subs"
   ]
  },
  {
   "cell_type": "code",
   "execution_count": null,
   "id": "29",
   "metadata": {},
   "outputs": [],
   "source": [
    "p1t_dot_H_subs = p1t_dot_H.subs(q1t, q1).subs(p2t, p2)\n",
    "p1t_dot_H_subs"
   ]
  },
  {
   "cell_type": "code",
   "execution_count": null,
   "id": "30",
   "metadata": {},
   "outputs": [],
   "source": [
    "p2t_dot_H_subs = p2t_dot_H\n",
    "p2t_dot_H_subs"
   ]
  },
  {
   "cell_type": "markdown",
   "id": "31",
   "metadata": {},
   "source": [
    "creating jax functions from the $p$ and $q$ equations"
   ]
  },
  {
   "cell_type": "code",
   "execution_count": null,
   "id": "32",
   "metadata": {},
   "outputs": [],
   "source": [
    "q1t_dot_H_jax = sympy.lambdify((e, c, b, m, q1, q2, p1, p2), q1t_dot_H_subs, \"jax\")\n",
    "q2t_dot_H_jax = sympy.lambdify((e, c, b, m, q1, q2, p1, p2), q2t_dot_H_subs, \"jax\")\n",
    "p1t_dot_H_jax = sympy.lambdify((e, c, b, m, q1, q2, p1, p2), p1t_dot_H_subs, \"jax\")\n",
    "p2t_dot_H_jax = sympy.lambdify((e, c, b, m, q1, q2, p1, p2), p2t_dot_H_subs, \"jax\")"
   ]
  },
  {
   "cell_type": "markdown",
   "id": "33",
   "metadata": {},
   "source": [
    "creating jax functions to compute initial $p$ from initial $q$ and $\\dot{q}$"
   ]
  },
  {
   "cell_type": "code",
   "execution_count": null,
   "id": "34",
   "metadata": {},
   "outputs": [],
   "source": [
    "p1_L = p1t_L.subs(q1t_dot, q1_dot)\n",
    "p1_L"
   ]
  },
  {
   "cell_type": "code",
   "execution_count": null,
   "id": "35",
   "metadata": {},
   "outputs": [],
   "source": [
    "p2_L = p2t_L.subs(q2t_dot, q2_dot).subs(q1t, q1)\n",
    "p2_L"
   ]
  },
  {
   "cell_type": "code",
   "execution_count": null,
   "id": "36",
   "metadata": {},
   "outputs": [],
   "source": [
    "p1_L_jax = sympy.lambdify((e, c, b, m, q1, q2, q1_dot, q2_dot), p1_L, \"jax\")\n",
    "p2_L_jax = sympy.lambdify((e, c, b, m, q1, q2, q1_dot, q2_dot), p2_L, \"jax\")"
   ]
  },
  {
   "cell_type": "markdown",
   "id": "37",
   "metadata": {},
   "source": [
    "## Numeric ODE solution"
   ]
  },
  {
   "cell_type": "code",
   "execution_count": null,
   "id": "38",
   "metadata": {},
   "outputs": [],
   "source": [
    "def ode_to_sole(t, z, args):\n",
    "    e, c, b, m = args\n",
    "    q_1, q_2, p_1, p_2 = z\n",
    "\n",
    "    q_1_dot = q1t_dot_H_jax(e, c, b, m, q_1, q_2, p_1, p_2)\n",
    "    q_2_dot = q2t_dot_H_jax(e, c, b, m, q_1, q_2, p_1, p_2)\n",
    "    p_1_dot = p1t_dot_H_jax(e, c, b, m, q_1, q_2, p_1, p_2)\n",
    "    p_2_dot = p2t_dot_H_jax(e, c, b, m, q_1, q_2, p_1, p_2)\n",
    "\n",
    "    return q_1_dot, q_2_dot, p_1_dot, p_2_dot\n",
    "\n",
    "\n",
    "e_val = 1.0\n",
    "c_val = 1.0\n",
    "b_val = 1.0\n",
    "m_val = 1.0\n",
    "\n",
    "\n",
    "q_1_0_val = 0.0\n",
    "q_2_0_val = 0.0\n",
    "\n",
    "q_1_dot_0_val = 1.0\n",
    "q_2_dot_0_val = 0.0\n",
    "\n",
    "p_1_0_val = p1_L_jax(\n",
    "    e_val, c_val, b_val, m_val, q_1_0_val, q_2_0_val, q_1_dot_0_val, q_2_dot_0_val\n",
    ")\n",
    "p_2_0_val = p2_L_jax(\n",
    "    e_val, c_val, b_val, m_val, q_1_0_val, q_2_0_val, q_1_dot_0_val, q_2_dot_0_val\n",
    ")\n",
    "\n",
    "params = (e_val, c_val, b_val, m_val)\n",
    "initial_values = (q_1_0_val, q_2_0_val, p_1_0_val, p_2_0_val)\n",
    "params, initial_values"
   ]
  },
  {
   "cell_type": "code",
   "execution_count": null,
   "id": "39",
   "metadata": {},
   "outputs": [],
   "source": [
    "ti, tf = 0, 10\n",
    "t_span = [ti, tf]\n",
    "t_eval = jnp.linspace(ti, tf, 101)\n",
    "dt0 = t_eval[1].item() - t_eval[0].item()\n",
    "\n",
    "term = ODETerm(ode_to_sole)\n",
    "solver = Dopri5()\n",
    "saveat = SaveAt(ts=t_eval)\n",
    "stepsize_controller = PIDController(rtol=1e-5, atol=1e-5)\n",
    "\n",
    "\n",
    "sol = diffeqsolve(\n",
    "    term,\n",
    "    solver,\n",
    "    t0=ti,\n",
    "    t1=tf,\n",
    "    dt0=dt0,\n",
    "    y0=initial_values,\n",
    "    saveat=saveat,\n",
    "    stepsize_controller=stepsize_controller,\n",
    "    args=params,\n",
    ")"
   ]
  },
  {
   "cell_type": "code",
   "execution_count": null,
   "id": "40",
   "metadata": {},
   "outputs": [],
   "source": [
    "assert sol.ys is not None\n",
    "assert sol.ts is not None\n",
    "t_sol = sol.ts\n",
    "q_1_sol = sol.ys[0]\n",
    "q_2_sol = sol.ys[1]\n",
    "p_1_sol = sol.ys[2]\n",
    "p_2_sol = sol.ys[3]\n",
    "\n",
    "fig, axs = plt.subplots(nrows=2, sharex=True)\n",
    "ax = axs[0]\n",
    "ax.plot(t_sol, q_1_sol, label=\"$q_1$\")\n",
    "ax.plot(t_sol, p_1_sol, label=\"$p_1$\")\n",
    "ax.legend()\n",
    "\n",
    "ax = axs[1]\n",
    "ax.plot(t_sol, q_2_sol, label=r\"$q_2$\")\n",
    "ax.plot(t_sol, p_2_sol, label=r\"$p_2$\")\n",
    "ax.set(xlabel=\"t\")\n",
    "ax.legend()\n",
    "plt.tight_layout()"
   ]
  },
  {
   "cell_type": "code",
   "execution_count": null,
   "id": "41",
   "metadata": {},
   "outputs": [],
   "source": [
    "trajectory = pl.DataFrame(\n",
    "    {\n",
    "        \"t\": t_sol.tolist(),\n",
    "        \"x1\": q_1_sol.tolist(),\n",
    "        \"y1\": q_2_sol.tolist(),\n",
    "    }\n",
    ")\n",
    "\n",
    "fig, ax = plt.subplots()\n",
    "ax.scatter(data=trajectory, x=\"x1\", y=\"y1\")\n",
    "ax.set(xlabel=\"x\", ylabel=\"y\")\n",
    "plt.tight_layout()"
   ]
  },
  {
   "cell_type": "code",
   "execution_count": null,
   "id": "42",
   "metadata": {},
   "outputs": [],
   "source": [
    "def animate_trajectory(trajectory: pl.DataFrame, title: str, filename: str):\n",
    "    x1_vals = trajectory[\"x1\"].to_list()\n",
    "    y1_vals = trajectory[\"y1\"].to_list()\n",
    "\n",
    "    x_min = min(x1_vals) - 1\n",
    "    x_max = max(x1_vals) + 1\n",
    "\n",
    "    y_min = min(y1_vals) - 1\n",
    "    y_max = max(y1_vals) + 1\n",
    "\n",
    "    frames = []\n",
    "\n",
    "    @gif.frame\n",
    "    def plot_frame(i: int) -> Figure:\n",
    "        fig, ax = plt.subplots()\n",
    "\n",
    "        ax.plot(x1_vals[: i + 1], y1_vals[: i + 1], color=\"lightblue\", linewidth=2)\n",
    "        ax.plot(x1_vals[i], y1_vals[i], \"bo\", markersize=8, label=\"1\")\n",
    "\n",
    "        ax.set_xlim(x_min, x_max)\n",
    "        ax.set_ylim(y_min, y_max)\n",
    "\n",
    "        ax.set_xlabel(\"x\")\n",
    "        ax.set_ylabel(\"y\")\n",
    "\n",
    "        ax.set_title(title)\n",
    "\n",
    "        return fig\n",
    "\n",
    "    for i in range(len(x1_vals)):\n",
    "        frames.append(plot_frame(i))\n",
    "\n",
    "    gif.save(frames, filename, duration=300)\n",
    "\n",
    "\n",
    "animate_trajectory(\n",
    "    trajectory,\n",
    "    \"Charged particle in magnetic field\",\n",
    "    \"trajectory-chared-particle-magnetic-field.gif\",\n",
    ")"
   ]
  }
 ],
 "metadata": {
  "language_info": {
   "codemirror_mode": {
    "name": "ipython",
    "version": 3
   },
   "file_extension": ".py",
   "mimetype": "text/x-python",
   "name": "python",
   "nbconvert_exporter": "python",
   "pygments_lexer": "ipython3",
   "version": "3.13.3"
  }
 },
 "nbformat": 4,
 "nbformat_minor": 5
}
