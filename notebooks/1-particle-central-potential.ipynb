{
 "cells": [
  {
   "cell_type": "markdown",
   "id": "0",
   "metadata": {},
   "source": [
    "# Particle in a rotation symmetric potential"
   ]
  },
  {
   "cell_type": "code",
   "execution_count": null,
   "id": "1",
   "metadata": {},
   "outputs": [],
   "source": [
    "%load_ext autoreload\n",
    "%autoreload 2"
   ]
  },
  {
   "cell_type": "code",
   "execution_count": null,
   "id": "2",
   "metadata": {},
   "outputs": [],
   "source": [
    "from sympy import dsolve, symbols, Function, Eq\n",
    "import sympy\n",
    "import polars as pl\n",
    "import torch\n",
    "import numpy as np\n",
    "import gif\n",
    "import matplotlib.pyplot as plt\n",
    "from matplotlib.figure import Figure\n",
    "import math\n",
    "from scipy.integrate import solve_ivp\n",
    "from diffrax import diffeqsolve, Dopri5, ODETerm, SaveAt, PIDController\n",
    "import jax.numpy as jnp\n",
    "from jaxtyping import Array"
   ]
  },
  {
   "cell_type": "markdown",
   "id": "3",
   "metadata": {},
   "source": [
    "## Lagrangian"
   ]
  },
  {
   "cell_type": "markdown",
   "id": "4",
   "metadata": {},
   "source": [
    "$$ L = T - V = \\frac{1}{2} m \\left( \\dot{x}^2 + \\dot{y}^2 \\right) - V(r) $$\n",
    "\n",
    "$$ \\frac{dL}{dx} = \\frac{d}{dt} \\frac{dL}{d\\dot{x}} $$\n",
    "\n",
    "$$ \\frac{dL}{dy} = \\frac{d}{dt} \\frac{dL}{d\\dot{y}} $$\n",
    "\n",
    "$$ \\frac{dV}{dr} \\frac{dr}{dx} = m \\ddot{x} $$\n",
    "\n",
    "$$ \\frac{dV}{dr} \\frac{dr}{dy} = m \\ddot{y} $$\n",
    "\n",
    "$$ r = \\sqrt{x^2 + y^2} $$"
   ]
  },
  {
   "cell_type": "code",
   "execution_count": null,
   "id": "5",
   "metadata": {},
   "outputs": [],
   "source": [
    "x, y = symbols(\"x y\")\n",
    "\n",
    "sympy.sqrt(x**2 + y**2).diff(x)"
   ]
  },
  {
   "cell_type": "markdown",
   "id": "6",
   "metadata": {},
   "source": [
    "$$ \\frac{dr}{dx} = \\frac{x}{\\sqrt{x^2 + y^2}} $$"
   ]
  },
  {
   "cell_type": "markdown",
   "id": "7",
   "metadata": {},
   "source": [
    "ugh this is getting nasty, better switch from $L(x,y,t)$ to $L(r,\\phi,t)$"
   ]
  },
  {
   "cell_type": "code",
   "execution_count": null,
   "id": "8",
   "metadata": {},
   "outputs": [],
   "source": [
    "sympy.sin(x).diff(x)  # type: ignore"
   ]
  },
  {
   "cell_type": "markdown",
   "id": "9",
   "metadata": {},
   "source": [
    "$$ x = r \\cos \\phi $$\n",
    "\n",
    "$$ y = r \\sin \\phi $$\n",
    "\n",
    "$$ \\dot{x} = \\dot{r} \\cos \\phi - r \\dot{\\phi} \\sin \\phi $$\n",
    "\n",
    "$$ \\dot{y} = \\dot{r} \\sin \\phi + r \\dot{\\phi} \\cos \\phi $$"
   ]
  },
  {
   "cell_type": "markdown",
   "id": "10",
   "metadata": {},
   "source": [
    "$$ L = T - V = \\frac{1}{2} m \\left( \\dot{x}^2 + \\dot{y}^2 \\right) - V(r) $$\n",
    "\n",
    "$$ L = T - V = \\frac{1}{2} m \\left( \\left( \\dot{r} \\cos \\phi - r \\dot{\\phi} \\sin \\phi \\right)^2 + \\left( \\dot{r} \\sin \\phi + r \\dot{\\phi} \\cos \\phi \\right)^2 \\right) - V(r) $$"
   ]
  },
  {
   "cell_type": "code",
   "execution_count": null,
   "id": "11",
   "metadata": {},
   "outputs": [],
   "source": [
    "t = symbols(\"t\")\n",
    "q_r, phi = symbols(\"r phi\", cls=Function)\n",
    "\n",
    "sympy.simplify(\n",
    "    (q_r(t).diff(t) * sympy.cos(phi(t)) - q_r(t) * phi(t).diff(t) * sympy.sin(phi(t)))\n",
    "    ** 2\n",
    "    + (q_r(t).diff(t) * sympy.sin(phi(t)) + q_r(t) * phi(t).diff(t) * sympy.cos(phi(t)))\n",
    "    ** 2\n",
    ")"
   ]
  },
  {
   "cell_type": "markdown",
   "id": "12",
   "metadata": {},
   "source": [
    "$$ L = T - V = \\frac{1}{2} m \\left( r^2 \\dot\\phi^2 + \\dot{r}^2 \\right) - V(r) $$"
   ]
  },
  {
   "cell_type": "markdown",
   "id": "13",
   "metadata": {},
   "source": [
    "$$ \\frac{dL}{dr} = \\frac{d}{dt} \\frac{dL}{d\\dot{r}} $$\n",
    "\n",
    "$$ \\frac{dL}{d\\phi} = \\frac{d}{dt} \\frac{dL}{d\\dot{\\phi}} $$"
   ]
  },
  {
   "cell_type": "markdown",
   "id": "14",
   "metadata": {},
   "source": [
    "$$ mr\\dot{\\phi}^2 - \\frac{dV}{dr} = m\\ddot{r} $$\n",
    "\n",
    "$$ 0 = d_t (mr^2\\dot{\\phi}) $$\n",
    "\n",
    "$$ mr^2\\dot{\\phi} = l \\rightarrow \\dot{\\phi} = \\frac{l}{mr^2} $$\n",
    "\n",
    "where $l$ is the angular momentum\n",
    "\n",
    "so \n",
    "\n",
    "$$ mr\\dot{\\phi}^2 - \\frac{dV}{dr} = m\\ddot{r} $$\n",
    "\n",
    "becomes\n",
    "\n",
    "$$ mr \\left( \\frac{l}{mr^2} \\right)^2 - \\frac{dV}{dr} = m\\ddot{r} $$\n",
    "\n",
    "$$ \\frac{l^2}{mr^3} - \\frac{dV}{dr} = m\\ddot{r} $$"
   ]
  },
  {
   "cell_type": "code",
   "execution_count": null,
   "id": "15",
   "metadata": {},
   "outputs": [],
   "source": [
    "l, m = symbols(\"l m\")\n",
    "dVdr = symbols(\"dVdr\", cls=Function)"
   ]
  },
  {
   "cell_type": "code",
   "execution_count": null,
   "id": "16",
   "metadata": {},
   "outputs": [],
   "source": [
    "diffeq = Eq(m * q_r(t).diff(t, t) - l**2 / m / q_r(t) ** 3, 0)\n",
    "diffeq"
   ]
  },
  {
   "cell_type": "code",
   "execution_count": null,
   "id": "17",
   "metadata": {},
   "outputs": [],
   "source": [
    "res = dsolve(diffeq)\n",
    "res"
   ]
  },
  {
   "cell_type": "markdown",
   "id": "18",
   "metadata": {},
   "source": [
    "well this sucks. let's re-write the radial equations of motion\n",
    "\n",
    "$$ mr\\dot{\\phi}^2 - \\frac{dV}{dr} = m\\ddot{r} $$\n",
    "\n",
    "$$ 0 = d_t (mr^2\\dot{\\phi}) \\rightarrow \\dot{\\phi} = \\frac{L_z}{mr^2} $$\n",
    "\n",
    "$$ \\ddot{r} = \\frac{L_z^2}{m^2r^3} - \\frac{1}{m} \\frac{dV}{dr} $$"
   ]
  },
  {
   "cell_type": "markdown",
   "id": "19",
   "metadata": {},
   "source": [
    "https://medium.com/@benjaminkhelyer/a-zoo-of-differential-equation-solvers-in-python-mostly-odes-bcb071a33450"
   ]
  },
  {
   "cell_type": "code",
   "execution_count": null,
   "id": "20",
   "metadata": {},
   "outputs": [],
   "source": [
    "def get_Lz(m: float, r: float, phi_dot: float) -> float:\n",
    "    return m * r**2 * phi_dot\n",
    "\n",
    "\n",
    "def get_dVdr_quadratic(r: float) -> float:\n",
    "    return 2 * r\n",
    "\n",
    "\n",
    "def particle_central_potential_ode(\n",
    "    t: float, z: tuple[float, float, float], m: float, Lz: float\n",
    ") -> tuple[float, float, float]:\n",
    "    r, r_dot, phi = z\n",
    "    dVdr = get_dVdr_quadratic(r)\n",
    "    r_ddot = Lz**2 / m**2 / r**3 - 1 / m * dVdr\n",
    "    phi_dot = Lz / m / r**2\n",
    "    return r_dot, r_ddot, phi_dot"
   ]
  },
  {
   "cell_type": "code",
   "execution_count": null,
   "id": "21",
   "metadata": {},
   "outputs": [],
   "source": [
    "ti, tf = 0, 10\n",
    "t_span = [ti, tf]\n",
    "t_eval = torch.linspace(ti, tf, 101)\n",
    "\n",
    "r0 = 1.0\n",
    "r_dot0 = 2.0\n",
    "phi0 = 0.0\n",
    "phi_dot0 = 1.0\n",
    "\n",
    "m = 1.0\n",
    "Lz = get_Lz(m, r0, phi_dot0)\n",
    "params = (m, Lz)\n",
    "sol = solve_ivp(\n",
    "    particle_central_potential_ode,\n",
    "    t_span,\n",
    "    [r0, r_dot0, phi0],\n",
    "    args=params,\n",
    "    t_eval=t_eval,\n",
    ")"
   ]
  },
  {
   "cell_type": "code",
   "execution_count": null,
   "id": "22",
   "metadata": {},
   "outputs": [],
   "source": [
    "t_sol = sol.t\n",
    "r_sol = sol.y[0, :]\n",
    "r_dot_sol = sol.y[1, :]\n",
    "phi_sol = sol.y[2, :]\n",
    "\n",
    "fig, axs = plt.subplots(nrows=2, sharex=True)\n",
    "ax = axs[0]\n",
    "ax.plot(t_sol, r_sol, label=\"r\")\n",
    "ax.plot(t_sol, r_dot_sol, label=\"dr/dt\")\n",
    "ax.legend()\n",
    "\n",
    "ax = axs[1]\n",
    "ax.plot(t_sol, phi_sol, label=\"phi\")\n",
    "ax.set(xlabel=\"t\", ylabel=r\"$\\phi$\")\n",
    "\n",
    "plt.tight_layout()"
   ]
  },
  {
   "cell_type": "markdown",
   "id": "23",
   "metadata": {},
   "source": [
    "$$ x = r \\cos \\phi $$\n",
    "\n",
    "$$ y = r \\sin \\phi $$"
   ]
  },
  {
   "cell_type": "code",
   "execution_count": null,
   "id": "24",
   "metadata": {},
   "outputs": [],
   "source": [
    "trajectory = pl.DataFrame(\n",
    "    {\n",
    "        \"t\": t_sol,\n",
    "        \"x\": r_sol * np.cos(phi_sol),\n",
    "        \"y\": r_sol * np.sin(phi_sol),\n",
    "    }\n",
    ")\n",
    "\n",
    "fig, ax = plt.subplots()\n",
    "ax.scatter(data=trajectory, x=\"x\", y=\"y\")\n",
    "ax.set(xlabel=\"x\", ylabel=\"y\")\n",
    "plt.tight_layout()"
   ]
  },
  {
   "cell_type": "code",
   "execution_count": null,
   "id": "25",
   "metadata": {},
   "outputs": [],
   "source": [
    "def animate_trajectory(trajectory: pl.DataFrame, title: str, filename: str):\n",
    "    x_vals = trajectory[\"x\"].to_list()\n",
    "    y_vals = trajectory[\"y\"].to_list()\n",
    "\n",
    "    x_min = min(x_vals) - 1\n",
    "    x_max = max(x_vals) + 1\n",
    "\n",
    "    y_min = min(y_vals) - 1\n",
    "    y_max = max(y_vals) + 1\n",
    "\n",
    "    frames = []\n",
    "\n",
    "    @gif.frame\n",
    "    def plot_frame(i: int) -> Figure:\n",
    "        fig, ax = plt.subplots()\n",
    "\n",
    "        ax.plot(x_vals[: i + 1], y_vals[: i + 1], color=\"lightblue\", linewidth=2)\n",
    "        ax.plot(x_vals[i], y_vals[i], \"bo\", markersize=8)\n",
    "\n",
    "        ax.set_xlim(x_min, x_max)\n",
    "        ax.set_ylim(y_min, y_max)\n",
    "\n",
    "        ax.set_xlabel(\"x\")\n",
    "        ax.set_ylabel(\"y\")\n",
    "\n",
    "        ax.set_title(title)\n",
    "\n",
    "        return fig\n",
    "\n",
    "    for i in range(len(x_vals)):\n",
    "        frames.append(plot_frame(i))\n",
    "\n",
    "    gif.save(frames, filename, duration=300)\n",
    "\n",
    "\n",
    "animate_trajectory(\n",
    "    trajectory,\n",
    "    \"Particle in central potential - Lagrangian\",\n",
    "    \"trajectory-central-potential-lagrangian.gif\",\n",
    ")"
   ]
  },
  {
   "cell_type": "markdown",
   "id": "26",
   "metadata": {},
   "source": [
    "## Hamiltonian"
   ]
  },
  {
   "cell_type": "markdown",
   "id": "27",
   "metadata": {},
   "source": [
    "$$ L = T - V = \\frac{1}{2} m \\left( r^2 \\dot\\phi^2 + \\dot{r}^2 \\right) - V(r) $$"
   ]
  },
  {
   "cell_type": "markdown",
   "id": "28",
   "metadata": {},
   "source": [
    "$$ L = \\frac{1}{2} m \\left( q_r^2 \\dot{q}_\\phi^2 + \\dot{q}_r^2 \\right) - V(q_r) $$"
   ]
  },
  {
   "cell_type": "markdown",
   "id": "29",
   "metadata": {},
   "source": [
    "using \n",
    "\n",
    "$$ p = \\partial_{\\dot{q}} L $$\n",
    "\n",
    "we get\n",
    "\n",
    "$$ p_r = \\partial_{\\dot{q}_r} L =  m \\dot{q}_r $$\n",
    "\n",
    "$$ p_\\phi = \\partial_{\\dot{q}_\\phi} L = m q_r^2 \\dot{q}_\\phi $$"
   ]
  },
  {
   "cell_type": "markdown",
   "id": "30",
   "metadata": {},
   "source": [
    "so\n",
    "\n",
    "$$ \\dot{q}_r = \\frac{p_r}{m} $$\n",
    "\n",
    "and \n",
    "\n",
    "$$ \\dot{q}_\\phi = \\frac{p_\\phi}{m q_r^2} $$"
   ]
  },
  {
   "cell_type": "markdown",
   "id": "31",
   "metadata": {},
   "source": [
    "$$ H = \\sum_i p_i \\dot{q}_i - L $$\n",
    "\n",
    "$$ H = p_r \\dot{q}_r + p_\\phi \\dot{q}_\\phi - \\frac{1}{2} m \\left( q_r^2 \\dot{q}_\\phi^2 + \\dot{q}_r^2 \\right) + V(q_r) $$"
   ]
  },
  {
   "cell_type": "markdown",
   "id": "32",
   "metadata": {},
   "source": [
    "inserting the canonical momenta for the velocities found above"
   ]
  },
  {
   "cell_type": "markdown",
   "id": "33",
   "metadata": {},
   "source": [
    "$$ H = \\frac{p_r^2}{m} + \\frac{p_\\phi^2}{m q_r^2} - \\frac{p_\\phi^2}{2 m q_r^2} - \\frac{p_r^2}{2m} + V(q_r) $$"
   ]
  },
  {
   "cell_type": "markdown",
   "id": "34",
   "metadata": {},
   "source": [
    "$$ H = \\frac{p_r^2}{2 m} + \\frac{p_\\phi^2}{2 m q_r^2} + V(q_r) $$"
   ]
  },
  {
   "cell_type": "markdown",
   "id": "35",
   "metadata": {},
   "source": [
    "$$ \\dot{q}_i = \\partial_{p_i} H $$\n",
    "\n",
    "$$ -\\dot{p}_i = \\partial_{q_i} H $$"
   ]
  },
  {
   "cell_type": "markdown",
   "id": "36",
   "metadata": {},
   "source": [
    "$\\dot{q}$ relationships\n",
    "\n",
    "$$ \\dot{q}_r = \\partial_{p_r} H = \\frac{p_r}{m} $$\n",
    "\n",
    "$$ \\dot{q}_\\phi = \\partial_{p_\\phi} H = \\frac{p_\\phi}{m q_r^2} $$"
   ]
  },
  {
   "cell_type": "markdown",
   "id": "37",
   "metadata": {},
   "source": [
    "$q$ derivatives\n",
    "\n",
    "$$ -\\dot{p}_r = \\partial_{q_r} H =  - \\frac{p^2_\\phi}{m q_r^3} + \\partial_{q_r} V(q_r) $$\n",
    "\n",
    "$$ -\\dot{p}_\\phi = \\partial_{q_\\phi} H = 0 $$"
   ]
  },
  {
   "cell_type": "code",
   "execution_count": null,
   "id": "38",
   "metadata": {},
   "outputs": [],
   "source": [
    "def get_dVdr_quadratic(r: float) -> float:\n",
    "    return 2 * r\n",
    "\n",
    "\n",
    "def particle_central_potential_ode_hamiltonian(\n",
    "    t: float, z: tuple[float, float, float, float], m: float\n",
    ") -> tuple[float, float, float, float]:\n",
    "    q_r, q_phi, p_r, p_phi = z\n",
    "    dVdqr = get_dVdr_quadratic(q_r)\n",
    "\n",
    "    q_r_dot = p_r / m\n",
    "    q_phi_dot = p_phi / m / q_r**2\n",
    "    p_r_dot = p_phi**2 / m / q_r**3 - dVdqr\n",
    "    p_phi_dot = 0\n",
    "\n",
    "    return q_r_dot, q_phi_dot, p_r_dot, p_phi_dot"
   ]
  },
  {
   "cell_type": "code",
   "execution_count": null,
   "id": "39",
   "metadata": {},
   "outputs": [],
   "source": [
    "ti, tf = 0, 100\n",
    "t_span = [ti, tf]\n",
    "t_eval = torch.linspace(ti, tf, 1001)\n",
    "\n",
    "q_r_0 = 1.0\n",
    "q_phi_0 = 0.0\n",
    "\n",
    "q_r_dot_0 = 1.0\n",
    "q_phi_dot_0 = 0.1\n",
    "\n",
    "p_r_0 = q_r_0 * m\n",
    "p_phi_0 = m * q_r_0**2 * q_phi_dot_0\n",
    "\n",
    "m = 1.0\n",
    "params = (m,)\n",
    "initial_values = (q_r_0, q_phi_0, p_r_0, p_phi_0)\n",
    "sol_ham = solve_ivp(\n",
    "    particle_central_potential_ode_hamiltonian,\n",
    "    t_span,\n",
    "    initial_values,\n",
    "    args=params,\n",
    "    t_eval=t_eval,\n",
    ")"
   ]
  },
  {
   "cell_type": "code",
   "execution_count": null,
   "id": "40",
   "metadata": {},
   "outputs": [],
   "source": [
    "# %%timeit\n",
    "# sol_ham = solve_ivp(particle_central_potential_ode_hamiltonian, t_span, initial_values, args=params, t_eval=t_eval)"
   ]
  },
  {
   "cell_type": "code",
   "execution_count": null,
   "id": "41",
   "metadata": {},
   "outputs": [],
   "source": [
    "t_sol = sol_ham.t\n",
    "q_r_sol = sol_ham.y[0, :]\n",
    "q_phi_sol = sol_ham.y[1, :]\n",
    "p_r_sol = sol_ham.y[2, :]\n",
    "p_phi_sol = sol_ham.y[3, :]\n",
    "\n",
    "fig, axs = plt.subplots(nrows=2, sharex=True)\n",
    "ax = axs[0]\n",
    "ax.plot(t_sol, q_r_sol, label=\"$q_r$\")\n",
    "ax.plot(t_sol, p_r_sol, label=\"$p_r$\")\n",
    "ax.legend()\n",
    "\n",
    "ax = axs[1]\n",
    "ax.plot(t_sol, q_phi_sol, label=r\"$q_\\phi$\")\n",
    "ax.set(xlabel=\"t\", ylabel=r\"$\\phi$\")\n",
    "\n",
    "plt.tight_layout()"
   ]
  },
  {
   "cell_type": "code",
   "execution_count": null,
   "id": "42",
   "metadata": {},
   "outputs": [],
   "source": [
    "trajectory = pl.DataFrame(\n",
    "    {\n",
    "        \"t\": t_sol,\n",
    "        \"x\": q_r_sol * np.cos(q_phi_sol),\n",
    "        \"y\": q_r_sol * np.sin(q_phi_sol),\n",
    "    }\n",
    ")\n",
    "\n",
    "fig, ax = plt.subplots()\n",
    "ax.scatter(data=trajectory, x=\"x\", y=\"y\", s=0.2)\n",
    "ax.set(xlabel=\"x\", ylabel=\"y\")\n",
    "plt.tight_layout()"
   ]
  },
  {
   "cell_type": "code",
   "execution_count": null,
   "id": "43",
   "metadata": {},
   "outputs": [],
   "source": [
    "# animate_trajectory(trajectory, 'Particle in central potential - Hamiltonian', \"trajectory-central-potential-hamiltonian.gif\")"
   ]
  },
  {
   "cell_type": "markdown",
   "id": "44",
   "metadata": {},
   "source": [
    "same as above but with `jax` / `diffrax`"
   ]
  },
  {
   "cell_type": "code",
   "execution_count": null,
   "id": "45",
   "metadata": {},
   "outputs": [],
   "source": [
    "def particle_central_potential_ode_hamiltonian_diffrax(t, z, args):\n",
    "    (m,) = args\n",
    "    q_r, q_phi, p_r, p_phi = z\n",
    "    dVdqr = get_dVdr_quadratic(q_r)\n",
    "\n",
    "    q_r_dot = p_r / m\n",
    "    q_phi_dot = p_phi / m / q_r**2\n",
    "    p_r_dot = p_phi**2 / m / q_r**3 - dVdqr\n",
    "    p_phi_dot = 0\n",
    "\n",
    "    return q_r_dot, q_phi_dot, p_r_dot, p_phi_dot\n",
    "\n",
    "\n",
    "term = ODETerm(particle_central_potential_ode_hamiltonian_diffrax)\n",
    "solver = Dopri5()\n",
    "saveat = SaveAt(ts=t_eval.detach().numpy().tolist())\n",
    "stepsize_controller = PIDController(rtol=1e-5, atol=1e-5)\n",
    "dt0 = t_eval[1].item() - t_eval[0].item()\n",
    "sol_jax = diffeqsolve(\n",
    "    term,\n",
    "    solver,\n",
    "    t0=ti,\n",
    "    t1=tf,\n",
    "    dt0=dt0,\n",
    "    y0=initial_values,\n",
    "    saveat=saveat,\n",
    "    stepsize_controller=stepsize_controller,\n",
    "    args=(m,),\n",
    ")"
   ]
  },
  {
   "cell_type": "code",
   "execution_count": null,
   "id": "46",
   "metadata": {},
   "outputs": [],
   "source": [
    "# %%timeit\n",
    "# sol_jax = diffeqsolve(term,\n",
    "#                   solver,\n",
    "#                   t0=ti,\n",
    "#                   t1=tf,\n",
    "#                   dt0=dt0,\n",
    "#                   y0=initial_values,\n",
    "#                   saveat=saveat,\n",
    "#                   stepsize_controller=stepsize_controller,\n",
    "#                   args=(m,))"
   ]
  },
  {
   "cell_type": "code",
   "execution_count": null,
   "id": "47",
   "metadata": {},
   "outputs": [],
   "source": [
    "sol_jax.ts"
   ]
  },
  {
   "cell_type": "code",
   "execution_count": null,
   "id": "48",
   "metadata": {},
   "outputs": [],
   "source": [
    "sol_jax.ys"
   ]
  },
  {
   "cell_type": "code",
   "execution_count": null,
   "id": "49",
   "metadata": {},
   "outputs": [],
   "source": [
    "assert sol_jax.ys is not None\n",
    "\n",
    "t_sol = sol_jax.ts\n",
    "q_r_sol = sol_jax.ys[0]\n",
    "q_phi_sol = sol_jax.ys[1]\n",
    "p_r_sol = sol_jax.ys[2]\n",
    "p_phi_sol = sol_jax.ys[3]\n",
    "\n",
    "fig, axs = plt.subplots(nrows=2, sharex=True)\n",
    "ax = axs[0]\n",
    "ax.plot(t_sol, q_r_sol, label=\"$q_r$\")\n",
    "ax.plot(t_sol, p_r_sol, label=\"$p_r$\")\n",
    "ax.legend()\n",
    "\n",
    "ax = axs[1]\n",
    "ax.plot(t_sol, q_phi_sol, label=r\"$q_\\phi$\")\n",
    "ax.set(xlabel=\"t\", ylabel=r\"$\\phi$\")\n",
    "\n",
    "plt.tight_layout()"
   ]
  },
  {
   "cell_type": "code",
   "execution_count": null,
   "id": "50",
   "metadata": {},
   "outputs": [],
   "source": [
    "trajectory = pl.DataFrame(\n",
    "    {\n",
    "        \"t\": t_sol.tolist(),\n",
    "        \"x\": (q_r_sol * np.cos(q_phi_sol)).tolist(),\n",
    "        \"y\": (q_r_sol * np.sin(q_phi_sol)).tolist(),\n",
    "    }\n",
    ")\n",
    "\n",
    "fig, ax = plt.subplots()\n",
    "ax.scatter(data=trajectory, x=\"x\", y=\"y\", s=0.2)\n",
    "ax.set(xlabel=\"x\", ylabel=\"y\")\n",
    "plt.tight_layout()"
   ]
  },
  {
   "cell_type": "markdown",
   "id": "51",
   "metadata": {},
   "source": [
    "## With gravity"
   ]
  },
  {
   "cell_type": "markdown",
   "id": "52",
   "metadata": {},
   "source": [
    "$V(q_r) \\rightarrow V(q_r,q_\\phi) $ \n",
    "\n",
    "$ h = q_r \\sin(q_\\phi) $\n",
    "\n",
    "$$ V(q_r,q_\\phi) = q_r^2 + g m q_r \\sin(q_\\phi) $$"
   ]
  },
  {
   "cell_type": "markdown",
   "id": "53",
   "metadata": {},
   "source": [
    "$$ H = \\frac{p_r^2}{2 m} + \\frac{p_\\phi^2}{2 m q_r^2} + V(q_r, q_\\phi) $$"
   ]
  },
  {
   "cell_type": "markdown",
   "id": "54",
   "metadata": {},
   "source": [
    "unchanged: $p_r$, $p_\\phi$, $\\dot{q}_i$\n",
    "\n",
    "but $\\dot{p}_i$"
   ]
  },
  {
   "cell_type": "markdown",
   "id": "55",
   "metadata": {},
   "source": [
    "$$ \\dot{p}_r = - \\partial_{q_r} H =  \\frac{p^2_\\phi}{m q_r^3} - \\partial_{q_r} V(q_r, q_\\phi) $$\n",
    "\n",
    "with \n",
    "\n",
    "$$ \\partial_{q_r} V(q_r, q_\\phi) = 2 q_r + g m \\sin(q_\\phi) $$"
   ]
  },
  {
   "cell_type": "markdown",
   "id": "56",
   "metadata": {},
   "source": [
    "and \n",
    "\n",
    "$$ \\dot{p}_\\phi = - \\partial_{q_\\phi} H = - \\partial_{q_\\phi} V(q_r, q_\\phi) $$\n",
    "\n",
    "with\n",
    "\n",
    "$$ \\partial_{q_\\phi} V(q_r, q_\\phi) = g m q_r \\cos(q_\\phi) $$"
   ]
  },
  {
   "cell_type": "code",
   "execution_count": null,
   "id": "57",
   "metadata": {},
   "outputs": [],
   "source": [
    "def get_dVdqr_quadratic_with_gravity(\n",
    "    q_r: float, q_phi: float, m: float, g: float\n",
    ") -> Array:\n",
    "    return 2 * q_r + g * m * jnp.sin(q_phi)\n",
    "\n",
    "\n",
    "def get_dVdphi_with_gravity(q_r: float, q_phi: float, m: float, g: float) -> Array:\n",
    "    return g * m * q_r * jnp.cos(q_phi)\n",
    "\n",
    "\n",
    "def particle_central_potential_plus_gravity_ode_hamiltonian_diffrax(t, z, args):\n",
    "    m, g = args\n",
    "    q_r, q_phi, p_r, p_phi = z\n",
    "    dVdq_r = get_dVdqr_quadratic_with_gravity(q_r, q_phi, m, g)\n",
    "    dVdq_phi = get_dVdphi_with_gravity(q_r, q_phi, m, g)\n",
    "\n",
    "    q_r_dot = p_r / m\n",
    "    q_phi_dot = p_phi / m / q_r**2\n",
    "    p_r_dot = p_phi**2 / m / q_r**3 - dVdq_r\n",
    "    p_phi_dot = -dVdq_phi\n",
    "\n",
    "    return q_r_dot, q_phi_dot, p_r_dot, p_phi_dot"
   ]
  },
  {
   "cell_type": "code",
   "execution_count": null,
   "id": "58",
   "metadata": {},
   "outputs": [],
   "source": [
    "g = 10.0\n",
    "\n",
    "ti, tf = 0, 10\n",
    "t_span = [ti, tf]\n",
    "t_eval = torch.linspace(ti, tf, 401)\n",
    "\n",
    "q_r_0 = 2.0\n",
    "q_phi_0 = 2 / 4 * 2 * math.pi\n",
    "\n",
    "q_r_dot_0 = 1.0\n",
    "q_phi_dot_0 = 2.0\n",
    "\n",
    "p_r_0 = q_r_dot_0 * m\n",
    "p_phi_0 = m * q_r_0**2 * q_phi_dot_0\n",
    "\n",
    "initial_values = (q_r_0, q_phi_0, p_r_0, p_phi_0)"
   ]
  },
  {
   "cell_type": "code",
   "execution_count": null,
   "id": "59",
   "metadata": {},
   "outputs": [],
   "source": [
    "x_0, y_0 = q_r_0 * math.cos(q_phi_0), q_r_0 * math.sin(q_phi_0)"
   ]
  },
  {
   "cell_type": "code",
   "execution_count": null,
   "id": "60",
   "metadata": {},
   "outputs": [],
   "source": [
    "term = ODETerm(particle_central_potential_plus_gravity_ode_hamiltonian_diffrax)\n",
    "solver = Dopri5()\n",
    "saveat = SaveAt(ts=t_eval.detach().numpy().tolist())\n",
    "stepsize_controller = PIDController(rtol=1e-5, atol=1e-5)\n",
    "dt0 = t_eval[1].item() - t_eval[0].item()\n",
    "sol_jax = diffeqsolve(\n",
    "    term,\n",
    "    solver,\n",
    "    t0=ti,\n",
    "    t1=tf,\n",
    "    dt0=dt0,\n",
    "    y0=initial_values,\n",
    "    saveat=saveat,\n",
    "    stepsize_controller=stepsize_controller,\n",
    "    args=(m, g),\n",
    ")"
   ]
  },
  {
   "cell_type": "code",
   "execution_count": null,
   "id": "61",
   "metadata": {},
   "outputs": [],
   "source": [
    "assert sol_jax.ys is not None\n",
    "\n",
    "t_sol = sol_jax.ts\n",
    "q_r_sol = sol_jax.ys[0]\n",
    "q_phi_sol = sol_jax.ys[1]\n",
    "p_r_sol = sol_jax.ys[2]\n",
    "p_phi_sol = sol_jax.ys[3]\n",
    "\n",
    "fig, axs = plt.subplots(nrows=2, sharex=True)\n",
    "ax = axs[0]\n",
    "ax.plot(t_sol, q_r_sol, label=\"$q$\")\n",
    "ax.plot(t_sol, p_r_sol, label=\"$p$\")\n",
    "ax.legend()\n",
    "ax.set(ylabel=r\"$r$\")\n",
    "\n",
    "ax = axs[1]\n",
    "ax.plot(t_sol, q_phi_sol, label=r\"$q$\")\n",
    "ax.plot(t_sol, p_phi_sol, label=r\"$p$\")\n",
    "ax.legend(title=\"variable\")\n",
    "ax.set(xlabel=\"t\", ylabel=r\"$\\phi$\")\n",
    "\n",
    "plt.tight_layout()"
   ]
  },
  {
   "cell_type": "code",
   "execution_count": null,
   "id": "62",
   "metadata": {},
   "outputs": [],
   "source": [
    "assert t_sol is not None\n",
    "\n",
    "trajectory = pl.DataFrame(\n",
    "    {\n",
    "        \"t\": t_sol.tolist(),\n",
    "        \"x\": (q_r_sol * jnp.cos(q_phi_sol)).tolist(),\n",
    "        \"y\": (q_r_sol * jnp.sin(q_phi_sol)).tolist(),\n",
    "    }\n",
    ")\n",
    "\n",
    "x_min = trajectory[\"x\"].min() - 1\n",
    "x_max = trajectory[\"x\"].max() + 1\n",
    "\n",
    "y_min = trajectory[\"y\"].min() - 1\n",
    "y_max = trajectory[\"y\"].max() + 1\n",
    "\n",
    "fig, ax = plt.subplots()\n",
    "ax.scatter(data=trajectory, x=\"x\", y=\"y\", s=0.2)\n",
    "ax.scatter(x=[x_0], y=[y_0], marker=\"x\")\n",
    "ax.set(xlabel=\"x\", ylabel=\"y\", xlim=(x_min, x_max), ylim=(y_min, y_max))\n",
    "plt.tight_layout()"
   ]
  },
  {
   "cell_type": "code",
   "execution_count": null,
   "id": "63",
   "metadata": {},
   "outputs": [],
   "source": [
    "len(trajectory)"
   ]
  },
  {
   "cell_type": "code",
   "execution_count": null,
   "id": "64",
   "metadata": {},
   "outputs": [],
   "source": [
    "animate_trajectory(\n",
    "    trajectory,\n",
    "    \"Particle in central potential with gravity - Hamiltonian\",\n",
    "    \"trajectory-central-potential-plus-gravity-hamiltonian.gif\",\n",
    ")"
   ]
  }
 ],
 "metadata": {
  "language_info": {
   "codemirror_mode": {
    "name": "ipython",
    "version": 3
   },
   "file_extension": ".py",
   "mimetype": "text/x-python",
   "name": "python",
   "nbconvert_exporter": "python",
   "pygments_lexer": "ipython3",
   "version": "3.13.3"
  }
 },
 "nbformat": 4,
 "nbformat_minor": 5
}
